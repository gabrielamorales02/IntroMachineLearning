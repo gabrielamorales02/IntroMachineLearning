{
  "nbformat": 4,
  "nbformat_minor": 0,
  "metadata": {
    "colab": {
      "provenance": [],
      "authorship_tag": "ABX9TyN4gwhjnydaE04f6RUMz+9P",
      "include_colab_link": true
    },
    "kernelspec": {
      "name": "python3",
      "display_name": "Python 3"
    },
    "language_info": {
      "name": "python"
    }
  },
  "cells": [
    {
      "cell_type": "markdown",
      "metadata": {
        "id": "view-in-github",
        "colab_type": "text"
      },
      "source": [
        "<a href=\"https://colab.research.google.com/github/gabrielamorales02/IntroMachineLearning/blob/main/PARCIAL.ipynb\" target=\"_parent\"><img src=\"https://colab.research.google.com/assets/colab-badge.svg\" alt=\"Open In Colab\"/></a>"
      ]
    },
    {
      "cell_type": "code",
      "execution_count": 4,
      "metadata": {
        "colab": {
          "base_uri": "https://localhost:8080/"
        },
        "id": "zIMRV45cfbE3",
        "outputId": "598af454-8bb1-4223-fbe9-4591936adc10"
      },
      "outputs": [
        {
          "output_type": "stream",
          "name": "stdout",
          "text": [
            "--2025-04-30 21:18:19--  https://raw.githubusercontent.com/javierherrera1996/IntroMachineLearning/refs/heads/main/SegundoCorte/loan_approval_dataset.csv\n",
            "Resolving raw.githubusercontent.com (raw.githubusercontent.com)... 185.199.108.133, 185.199.109.133, 185.199.110.133, ...\n",
            "Connecting to raw.githubusercontent.com (raw.githubusercontent.com)|185.199.108.133|:443... connected.\n",
            "HTTP request sent, awaiting response... 200 OK\n",
            "Length: 384337 (375K) [text/plain]\n",
            "Saving to: ‘loan_approval_dataset.csv.1’\n",
            "\n",
            "loan_approval_datas 100%[===================>] 375.33K  --.-KB/s    in 0.02s   \n",
            "\n",
            "2025-04-30 21:18:19 (21.9 MB/s) - ‘loan_approval_dataset.csv.1’ saved [384337/384337]\n",
            "\n"
          ]
        }
      ],
      "source": [
        "!wget https://raw.githubusercontent.com/javierherrera1996/IntroMachineLearning/refs/heads/main/SegundoCorte/loan_approval_dataset.csv"
      ]
    },
    {
      "cell_type": "markdown",
      "source": [
        "2 Preguntas Teoricas"
      ],
      "metadata": {
        "id": "h-fgGjtQnVFf"
      }
    },
    {
      "cell_type": "markdown",
      "source": [
        "2.1 Pregunta 1: Analisis Exploratorio de Datos (EDA)\n",
        "¿Que pasos seguirıas para realizar un analisis exploratorio de los datos antes de construir un modelo de\n",
        "Machine Learning? Explica cada paso y menciona las herramientas que utilizarıas.\n",
        "\n",
        "\n",
        "Para cargar y visualizar los datos\n",
        "Lo primero es cargar la base de datos.Reviso cuántas filas y columnas tiene, y qué tipo de datos hay.\n",
        "- Herramientas: pandas y head(), info() o describe()\n",
        "\n",
        "Revisar valores faltantes y duplicados\n",
        "Se busca si hay datos que faltan (missing values) o si hay registros repetidos, porque eso puede afectar el modelo.\n",
        "- Herramientas: isnull().sum(), dropna(), duplicated() en pandas.\n",
        "\n",
        "Análisis univariado\n",
        "Se analiza cada variable por separado.\n",
        "- Herramientas: matplotlib, seaborn, value_counts(), hist().\n",
        "\n",
        "Detección de outliers\n",
        "Es importante identificar si hay datos que se salen mucho del rango normal. Esto puede afectar el modelo, dependiendo del algoritmo que se use.\n",
        "- Herramientas: Diagramas de caja (boxplot())\n",
        "\n",
        "\n"
      ],
      "metadata": {
        "id": "sAse4V1PnYc4"
      }
    },
    {
      "cell_type": "markdown",
      "source": [
        "2.2 Pregunta 2: Preprocesamiento de Datos\n",
        "\n",
        "Imagina que uno de los datos contiene valores faltantes o atıpicos (outliers). ¿Que tecnicas utilizarıas para tratar con estos problemas en el conjunto de datos de la tabla? Justifica tu respuesta.\n",
        "\n",
        "Si el conjunto de datos tiene valores faltantes o atípicos (outliers), lo primero sería analizarlos para decidir cómo tratarlos. En el caso de los valores faltantes, si son pocos, se pueden eliminar las filas o columnas; pero si son muchos, conviene imputarlos usando la media, mediana o moda, dependiendo del tipo de dato. Para valores atípicos, primero los detectaría con métodos como boxplots o el rango intercuartílico (IQR), y luego decidiría si eliminarlos o reemplazarlos por valores más razonables (como la mediana o un límite del IQR). También se pueden usar transformaciones (como logaritmos) para reducir su impacto. Tratar estos problemas es importante porque pueden distorsionar el modelo y hacer que los resultados no sean fiables.\n",
        "\n"
      ],
      "metadata": {
        "id": "1Mcm1qDDquYG"
      }
    },
    {
      "cell_type": "markdown",
      "source": [
        "2.3 Pregunta 3: Modelos de Clasificacion\n",
        "En este caso, el objetivo es predecir si un prestamo sera aprobado o rechazado en funcion de las caracterısticas del solicitante. ¿Que tipo de modelo de clasificacion usarıas y por que? Discute las ventajas y\n",
        "desventajas de este modelo.\n",
        "\n",
        "Para predecir si un préstamo será aprobado o rechazado, usaría un modelo de clasificación como árboles de decisión, porque funcionan bien con datos mixtos y permiten interpretar fácilmente qué características influyen en la decisión. La ventaja principal de este modelo es que son fáciles de entender y no necesitan mucha preparación de datos.Como desventaja, los árboles individuales pueden ser inestables y propensos al sobreajuste si no se podan.\n",
        "\n"
      ],
      "metadata": {
        "id": "fiS09CblrdfU"
      }
    },
    {
      "cell_type": "markdown",
      "source": [
        "2.4 Pregunta 4: Desbalanceo de Clases\n",
        "¿Que es el desbalanceo de clases y por que es un problema al entrenar un modelo de clasificacion? ¿Que tecnicas utilizarıas para abordar este problema, como SMOTE?\n",
        "\n",
        "El desbalanceo de clases ocurre cuando en un conjunto de datos una clase tiene muchos más ejemplos que la otra. Esto es un problema porque el modelo puede aprender a predecir solo la clase mayoritaria y fallar en detectar la clase que menos aparece, que muchas veces es la más importante. Para solucionar esto, se pueden usar técnicas como SMOTE, ya que genera ejemplos sintéticos de la clase minoritaria para equilibrar los datos.\n",
        "\n",
        "\n",
        "\n"
      ],
      "metadata": {
        "id": "Nrr3O7bCsUTP"
      }
    },
    {
      "cell_type": "markdown",
      "source": [
        "2.5 Pregunta 5: Overfitting\n",
        "¿Que es el overfitting y como puedes detectarlo en un modelo de Machine Learning? Explica que medidas\n",
        "tomarıas para evitar el sobreajuste y mejorar la capacidad de generalizacion de tu modelo.\n",
        "\n",
        "El overfitting ocurre cuando un modelo de Machine Learning aprende demasiado bien los datos de entrenamiento, incluyendo el ruido o los detalles poco relevantes, y por eso no funciona bien con datos nuevos. Se puede detectar cuando el modelo tiene una alta precisión en entrenamiento pero baja precisión en validación o prueba, lo que indica que no está generalizando bien. Para evitar el sobreajuste, se pueden usar técnicas como validación cruzada, regularización (como L1 o L2), podar modelos complejos (por ejemplo, limitar la profundidad de un árbol), o incluso aumentar los datos. También es útil usar modelos más simples o aplicar técnicas como early stopping en redes neuronales.\n",
        "\n"
      ],
      "metadata": {
        "id": "P2MX0V3juvL9"
      }
    },
    {
      "cell_type": "markdown",
      "source": [
        "*3 Ejercicios Practicos*"
      ],
      "metadata": {
        "id": "Xtmmj37FvWd_"
      }
    },
    {
      "cell_type": "markdown",
      "source": [
        "• ¿Cual es el promedio de los ingresos anuales (income annum) de los solicitantes?"
      ],
      "metadata": {
        "id": "0-OPKdnrvYnW"
      }
    },
    {
      "cell_type": "code",
      "source": [
        "!wget https://raw.githubusercontent.com/javierherrera1996/IntroMachineLearning/refs/heads/main/SegundoCorte/loan_approval_dataset.csv"
      ],
      "metadata": {
        "colab": {
          "base_uri": "https://localhost:8080/"
        },
        "id": "-Mp2VqrlxDbD",
        "outputId": "9ba8de34-5bf2-465d-a239-0ff7c985a1a1"
      },
      "execution_count": 113,
      "outputs": [
        {
          "output_type": "stream",
          "name": "stdout",
          "text": [
            "--2025-04-30 23:40:01--  https://raw.githubusercontent.com/javierherrera1996/IntroMachineLearning/refs/heads/main/SegundoCorte/loan_approval_dataset.csv\n",
            "Resolving raw.githubusercontent.com (raw.githubusercontent.com)... 185.199.108.133, 185.199.109.133, 185.199.110.133, ...\n",
            "Connecting to raw.githubusercontent.com (raw.githubusercontent.com)|185.199.108.133|:443... connected.\n",
            "HTTP request sent, awaiting response... 200 OK\n",
            "Length: 384337 (375K) [text/plain]\n",
            "Saving to: ‘loan_approval_dataset.csv.3’\n",
            "\n",
            "\r          loan_appr   0%[                    ]       0  --.-KB/s               \rloan_approval_datas 100%[===================>] 375.33K  --.-KB/s    in 0.02s   \n",
            "\n",
            "2025-04-30 23:40:01 (21.8 MB/s) - ‘loan_approval_dataset.csv.3’ saved [384337/384337]\n",
            "\n"
          ]
        }
      ]
    },
    {
      "cell_type": "code",
      "source": [
        "print(df.columns)"
      ],
      "metadata": {
        "colab": {
          "base_uri": "https://localhost:8080/"
        },
        "id": "PlKVJ38wzHKl",
        "outputId": "4696bf96-c56a-47aa-f8bb-8a8128ddf036"
      },
      "execution_count": 47,
      "outputs": [
        {
          "output_type": "stream",
          "name": "stdout",
          "text": [
            "Index(['loan_id', ' no_of_dependents', ' education', ' self_employed',\n",
            "       ' income_annum', ' loan_amount', ' loan_term', ' cibil_score',\n",
            "       ' residential_assets_value', ' commercial_assets_value',\n",
            "       ' luxury_assets_value', ' bank_asset_value', ' loan_status'],\n",
            "      dtype='object')\n"
          ]
        }
      ]
    },
    {
      "cell_type": "code",
      "source": [
        "import pandas as pd\n",
        "import numpy as np\n",
        "import matplotlib.pyplot as plt\n",
        "import seaborn as sns\n",
        "\n",
        "!wget https://raw.githubusercontent.com/javierherrera1996/IntroMachineLearning/refs/heads/main/SegundoCorte/loan_approval_dataset.csv\n",
        "df = pd.read_csv('loan_approval_dataset.csv')\n",
        "\n",
        "print(df.info())\n",
        "print(df.head())"
      ],
      "metadata": {
        "colab": {
          "base_uri": "https://localhost:8080/"
        },
        "id": "v9WwCNH5EVi0",
        "outputId": "b409eba4-1342-40df-c89e-77678704de2c"
      },
      "execution_count": 114,
      "outputs": [
        {
          "output_type": "stream",
          "name": "stdout",
          "text": [
            "--2025-04-30 23:40:15--  https://raw.githubusercontent.com/javierherrera1996/IntroMachineLearning/refs/heads/main/SegundoCorte/loan_approval_dataset.csv\n",
            "Resolving raw.githubusercontent.com (raw.githubusercontent.com)... 185.199.108.133, 185.199.109.133, 185.199.110.133, ...\n",
            "Connecting to raw.githubusercontent.com (raw.githubusercontent.com)|185.199.108.133|:443... connected.\n",
            "HTTP request sent, awaiting response... 200 OK\n",
            "Length: 384337 (375K) [text/plain]\n",
            "Saving to: ‘loan_approval_dataset.csv.4’\n",
            "\n",
            "\r          loan_appr   0%[                    ]       0  --.-KB/s               \rloan_approval_datas 100%[===================>] 375.33K  --.-KB/s    in 0.02s   \n",
            "\n",
            "2025-04-30 23:40:15 (21.6 MB/s) - ‘loan_approval_dataset.csv.4’ saved [384337/384337]\n",
            "\n",
            "<class 'pandas.core.frame.DataFrame'>\n",
            "RangeIndex: 4269 entries, 0 to 4268\n",
            "Data columns (total 13 columns):\n",
            " #   Column                     Non-Null Count  Dtype \n",
            "---  ------                     --------------  ----- \n",
            " 0   loan_id                    4269 non-null   int64 \n",
            " 1    no_of_dependents          4269 non-null   int64 \n",
            " 2    education                 4269 non-null   object\n",
            " 3    self_employed             4269 non-null   object\n",
            " 4    income_annum              4269 non-null   int64 \n",
            " 5    loan_amount               4269 non-null   int64 \n",
            " 6    loan_term                 4269 non-null   int64 \n",
            " 7    cibil_score               4269 non-null   int64 \n",
            " 8    residential_assets_value  4269 non-null   int64 \n",
            " 9    commercial_assets_value   4269 non-null   int64 \n",
            " 10   luxury_assets_value       4269 non-null   int64 \n",
            " 11   bank_asset_value          4269 non-null   int64 \n",
            " 12   loan_status               4269 non-null   object\n",
            "dtypes: int64(10), object(3)\n",
            "memory usage: 433.7+ KB\n",
            "None\n",
            "   loan_id   no_of_dependents      education  self_employed   income_annum  \\\n",
            "0        1                  2       Graduate             No        9600000   \n",
            "1        2                  0   Not Graduate            Yes        4100000   \n",
            "2        3                  3       Graduate             No        9100000   \n",
            "3        4                  3       Graduate             No        8200000   \n",
            "4        5                  5   Not Graduate            Yes        9800000   \n",
            "\n",
            "    loan_amount   loan_term   cibil_score   residential_assets_value  \\\n",
            "0      29900000          12           778                    2400000   \n",
            "1      12200000           8           417                    2700000   \n",
            "2      29700000          20           506                    7100000   \n",
            "3      30700000           8           467                   18200000   \n",
            "4      24200000          20           382                   12400000   \n",
            "\n",
            "    commercial_assets_value   luxury_assets_value   bank_asset_value  \\\n",
            "0                  17600000              22700000            8000000   \n",
            "1                   2200000               8800000            3300000   \n",
            "2                   4500000              33300000           12800000   \n",
            "3                   3300000              23300000            7900000   \n",
            "4                   8200000              29400000            5000000   \n",
            "\n",
            "   loan_status  \n",
            "0     Approved  \n",
            "1     Rejected  \n",
            "2     Rejected  \n",
            "3     Rejected  \n",
            "4     Rejected  \n"
          ]
        }
      ]
    },
    {
      "cell_type": "code",
      "source": [
        "promedio_ingresos = df[ ' income_annum'].mean()\n",
        "print(f\"El promedio de los ingresos anuales de los solicitantes es: {promedio_ingresos}\")"
      ],
      "metadata": {
        "colab": {
          "base_uri": "https://localhost:8080/"
        },
        "id": "IrIpbVffytC9",
        "outputId": "4476eed1-ed8c-4d48-f698-c42ea4309ab9"
      },
      "execution_count": 115,
      "outputs": [
        {
          "output_type": "stream",
          "name": "stdout",
          "text": [
            "El promedio de los ingresos anuales de los solicitantes es: 5059123.9166081045\n"
          ]
        }
      ]
    },
    {
      "cell_type": "markdown",
      "source": [
        "¿Cual es el puntaje CIBIL promedio de los solicitantes cuyo prestamo fue aprobado?"
      ],
      "metadata": {
        "id": "B49HeZswztZu"
      }
    },
    {
      "cell_type": "code",
      "source": [
        "approved_loans = df[df[ ' loan_status'] == 'Approved']\n",
        "promedio_cibil_approved = approved_loans[ ' cibil_score'].mean()\n",
        "print(f\"El puntaje CIBIL promedio de los solicitantes cuyo préstamo fue aprobado es: {promedio_cibil_approved}\")"
      ],
      "metadata": {
        "colab": {
          "base_uri": "https://localhost:8080/"
        },
        "id": "53kDX2FAC-vc",
        "outputId": "674f912c-0292-4aa5-e65d-a4ce48d9b566"
      },
      "execution_count": 116,
      "outputs": [
        {
          "output_type": "stream",
          "name": "stdout",
          "text": [
            "El puntaje CIBIL promedio de los solicitantes cuyo préstamo fue aprobado es: nan\n"
          ]
        }
      ]
    },
    {
      "cell_type": "markdown",
      "source": [
        "¿Cual es la duracion promedio de los prestamos (loan term)?"
      ],
      "metadata": {
        "id": "aNRNKjSrEv_p"
      }
    },
    {
      "cell_type": "code",
      "source": [
        "promedio_duracion_prestamos = df[ ' loan_term'].mean()\n",
        "print(f\"La duración promedio de los préstamos es: {promedio_duracion_prestamos}\")\n"
      ],
      "metadata": {
        "colab": {
          "base_uri": "https://localhost:8080/"
        },
        "id": "O-QD9uzV0N1n",
        "outputId": "d419f15e-e323-403b-bacd-d0dff4d6e68d"
      },
      "execution_count": 118,
      "outputs": [
        {
          "output_type": "stream",
          "name": "stdout",
          "text": [
            "La duración promedio de los préstamos es: 10.900445069102835\n"
          ]
        }
      ]
    },
    {
      "cell_type": "markdown",
      "source": [
        "3.2 Ejercicio 2: Preprocesamiento de Datos"
      ],
      "metadata": {
        "id": "2adwHEVq0baV"
      }
    },
    {
      "cell_type": "markdown",
      "source": [
        "• Convierte la variable education en una variable binaria (0: Not Graduate, 1: Graduate).\n",
        "\n",
        "\n"
      ],
      "metadata": {
        "id": "Ppirae6q0ci5"
      }
    },
    {
      "cell_type": "code",
      "source": [
        "df[' education'] = df[' education'].map({'Graduate': 1, 'Not Graduate': 0})\n",
        "print(df[' education'].head())"
      ],
      "metadata": {
        "colab": {
          "base_uri": "https://localhost:8080/"
        },
        "id": "8SokvtLg1IRg",
        "outputId": "5baf49f6-6ee6-44c5-f5be-6ffa970f9725"
      },
      "execution_count": 122,
      "outputs": [
        {
          "output_type": "stream",
          "name": "stdout",
          "text": [
            "0   NaN\n",
            "1   NaN\n",
            "2   NaN\n",
            "3   NaN\n",
            "4   NaN\n",
            "Name:  education, dtype: float64\n"
          ]
        }
      ]
    },
    {
      "cell_type": "markdown",
      "source": [
        "• Convierte la variable self employed en una variable binaria (0: No, 1: Yes)."
      ],
      "metadata": {
        "id": "zOEWtZMY1Uus"
      }
    },
    {
      "cell_type": "code",
      "source": [
        "df[ ' self_employed'] = df[ ' self_employed'].map({'Yes': 1, 'No': 0})\n",
        "print(df[ ' self_employed'].head())"
      ],
      "metadata": {
        "colab": {
          "base_uri": "https://localhost:8080/"
        },
        "id": "-UlGWKCb1jjP",
        "outputId": "ecd36bd7-2910-4895-d410-c6c3c3ef23db"
      },
      "execution_count": 120,
      "outputs": [
        {
          "output_type": "stream",
          "name": "stdout",
          "text": [
            "0   NaN\n",
            "1   NaN\n",
            "2   NaN\n",
            "3   NaN\n",
            "4   NaN\n",
            "Name:  self_employed, dtype: float64\n"
          ]
        }
      ]
    },
    {
      "cell_type": "markdown",
      "source": [
        "• Rellena los valores faltantes, si los hubiera, con la media de la columna correspondiente."
      ],
      "metadata": {
        "id": "bdV-ZiED14vs"
      }
    },
    {
      "cell_type": "code",
      "source": [
        "for col in df.columns:\n",
        "    if df[col].isnull().any():\n",
        "        mean_val = df[col].mean()\n",
        "        df[col].fillna(mean_val, inplace=True)"
      ],
      "metadata": {
        "colab": {
          "base_uri": "https://localhost:8080/"
        },
        "id": "xtcEU2uc2qw9",
        "outputId": "d85d7c16-47e9-4cee-e8b9-2e0235218bf5"
      },
      "execution_count": 67,
      "outputs": [
        {
          "output_type": "stream",
          "name": "stderr",
          "text": [
            "<ipython-input-67-c97ffb26b5d5>:4: FutureWarning: A value is trying to be set on a copy of a DataFrame or Series through chained assignment using an inplace method.\n",
            "The behavior will change in pandas 3.0. This inplace method will never work because the intermediate object on which we are setting values always behaves as a copy.\n",
            "\n",
            "For example, when doing 'df[col].method(value, inplace=True)', try using 'df.method({col: value}, inplace=True)' or df[col] = df[col].method(value) instead, to perform the operation inplace on the original object.\n",
            "\n",
            "\n",
            "  df[col].fillna(mean_val, inplace=True)\n"
          ]
        }
      ]
    },
    {
      "cell_type": "markdown",
      "source": [
        "3.3 Ejercicio 3: Analisis de Correlacion\n",
        "\n",
        "Realiza un analisis de correlacion entre las siguientes variables:\n",
        "\n",
        "• income annum y loan amount\n",
        "• cibil score y loan amount\n",
        "• residential assets value y commercial assets value"
      ],
      "metadata": {
        "id": "CyPg7t2-3TEC"
      }
    },
    {
      "cell_type": "code",
      "source": [
        "corr_income_loan = df[' income_annum'].corr(df[ ' loan_amount'])\n",
        "print(f\"Correlación entre income_annum y loan_amount: {corr_income_loan:.2f}\")"
      ],
      "metadata": {
        "colab": {
          "base_uri": "https://localhost:8080/"
        },
        "id": "GfeCYQiQ3kI7",
        "outputId": "70064c23-d088-479a-b64f-043b8fa9af03"
      },
      "execution_count": 68,
      "outputs": [
        {
          "output_type": "stream",
          "name": "stdout",
          "text": [
            "Correlación entre income_annum y loan_amount: 0.93\n"
          ]
        }
      ]
    },
    {
      "cell_type": "code",
      "source": [
        "corr_cibil_loan = df[ ' cibil_score'].corr(df[ ' loan_amount'])\n",
        "print(f\"Correlación entre cibil score y loan_amount: {corr_cibil_loan:.2f}\")"
      ],
      "metadata": {
        "colab": {
          "base_uri": "https://localhost:8080/"
        },
        "id": "Mxu1IioH306p",
        "outputId": "4f0aad82-c7be-4a61-8d89-7d1a8569a0e8"
      },
      "execution_count": 69,
      "outputs": [
        {
          "output_type": "stream",
          "name": "stdout",
          "text": [
            "Correlación entre cibil score y loan_amount: -0.02\n"
          ]
        }
      ]
    },
    {
      "cell_type": "code",
      "source": [
        "corr_residential_commercial = df[ ' residential_assets_value'].corr(df[ ' commercial_assets_value'])\n",
        "print(f\"Correlación entre residential_assets_value y commercial_assets_value: {corr_residential_commercial:.2f}\")\n"
      ],
      "metadata": {
        "colab": {
          "base_uri": "https://localhost:8080/"
        },
        "id": "uwbVDfzu4XsS",
        "outputId": "2a286e8e-8adf-45e9-e009-a2e17a39a569"
      },
      "execution_count": 70,
      "outputs": [
        {
          "output_type": "stream",
          "name": "stdout",
          "text": [
            "Correlación entre residential_assets_value y commercial_assets_value: 0.41\n"
          ]
        }
      ]
    },
    {
      "cell_type": "markdown",
      "source": [
        "Discute los resultados obtenidos, ¿existen correlaciones fuertes entre algunas variables? ¿Como afectarıa\n",
        "esto a un modelo predictivo?\n",
        "\n",
        "Income vs. Loan Amount (correlación: 0.93)\n",
        "\n",
        "Interpretación: Existe una correlación muy fuerte y positiva, lo que indica que a mayores ingresos anuales, mayor es el préstamo solicitado.\n",
        "\n",
        "Impacto: Es un predictor muy relevante. El modelo probablemente se beneficie significativamente de esta variable.\n",
        "\n",
        "CIBIL Score vs. Loan Amount (correlación: -0.02)\n",
        "\n",
        "Interpretación: La correlación es prácticamente nula, lo que sugiere que no hay una relación lineal clara entre el puntaje CIBIL y el monto del préstamo.\n",
        "\n",
        "Impacto: Poca utilidad directa para predecir el monto del préstamo. Sin embargo, aún podría ser relevante para otros aspectos del modelo, como riesgo crediticio o aprobación.\n",
        "\n",
        "Residential vs. Commercial Asset Value (correlación: 0.41)\n",
        "\n",
        "Interpretación: Correlación moderada y positiva, indicando cierta relación entre ambos tipos de activos.\n",
        "\n",
        "Impacto: Puede aportar valor al modelo en términos de evaluar el patrimonio del solicitante, aunque con menor peso predictivo directo que los ingresos.\n",
        "\n"
      ],
      "metadata": {
        "id": "fpd7kn9b5JXt"
      }
    },
    {
      "cell_type": "markdown",
      "source": [
        "3.4 Ejercicio 4: Comparacion de Modelos de Clasificacion\n",
        "Usando la tabla de datos, entrena dos modelos de clasificacion: Regresion Logıstica y Arbol de Decision para predecir el estado del prestamo (loan status). Compara los modelos utilizando la metrica ROC AUC. Para esto, sigue los pasos:"
      ],
      "metadata": {
        "id": "xhN6HVUa5PVe"
      }
    },
    {
      "cell_type": "markdown",
      "source": [
        "• Preprocesa los datos (conversion de variables categoricas, manejo de valores faltantes)."
      ],
      "metadata": {
        "id": "IDpACWIy5bA3"
      }
    },
    {
      "cell_type": "markdown",
      "source": [
        "• Preprocesa los datos (conversion de variables categoricas, manejo de valores faltantes)."
      ],
      "metadata": {
        "id": "wIm0kKWgFp9M"
      }
    },
    {
      "cell_type": "code",
      "source": [
        "le = LabelEncoder()\n",
        "for col in df.select_dtypes(include='object'):\n",
        "    df[col] = le.fit_transform(df[col])\n",
        "\n",
        "    X = df.drop(' loan_status', axis=1)\n",
        "y = df[' loan_status']\n"
      ],
      "metadata": {
        "id": "7SeCNMtaFsMC"
      },
      "execution_count": 125,
      "outputs": []
    },
    {
      "cell_type": "markdown",
      "source": [
        "• Divide los datos en un conjunto de entrenamiento y uno de prueba."
      ],
      "metadata": {
        "id": "7K-Q6ZmwF2In"
      }
    },
    {
      "cell_type": "code",
      "source": [
        "X_train, X_test, y_train, y_test = train_test_split(X, y, test_size=0.2, random_state=42)\n",
        "\n",
        "imputer = SimpleImputer(strategy='mean')\n",
        "X_train = imputer.fit_transform(X_train)\n",
        "X_test = imputer.transform(X_test)\n",
        "\n",
        "smote = SMOTE(random_state=42)\n",
        "X_train_resampled, y_train_resampled = smote.fit_resample(X_train, y_train)\n",
        "\n"
      ],
      "metadata": {
        "colab": {
          "base_uri": "https://localhost:8080/"
        },
        "id": "ccZzOWOeF5PH",
        "outputId": "e8fee9e1-2d6a-4214-b32f-3567776275f8"
      },
      "execution_count": 129,
      "outputs": [
        {
          "output_type": "stream",
          "name": "stderr",
          "text": [
            "/usr/local/lib/python3.11/dist-packages/sklearn/impute/_base.py:635: UserWarning: Skipping features without any observed values: [' education' ' self_employed']. At least one non-missing value is needed for imputation with strategy='mean'.\n",
            "  warnings.warn(\n",
            "/usr/local/lib/python3.11/dist-packages/sklearn/impute/_base.py:635: UserWarning: Skipping features without any observed values: [' education' ' self_employed']. At least one non-missing value is needed for imputation with strategy='mean'.\n",
            "  warnings.warn(\n"
          ]
        }
      ]
    },
    {
      "cell_type": "markdown",
      "source": [
        "• Entrena los modelos de Regresion Logıstica y Arbol de Decision."
      ],
      "metadata": {
        "id": "fS-CXu4_GWCc"
      }
    },
    {
      "cell_type": "code",
      "source": [
        "logreg = LogisticRegression()\n",
        "logreg.fit(X_train_resampled, y_train_resampled)\n",
        "\n",
        "dtree = DecisionTreeClassifier()\n",
        "dtree.fit(X_train_resampled, y_train_resampled)"
      ],
      "metadata": {
        "colab": {
          "base_uri": "https://localhost:8080/",
          "height": 219
        },
        "id": "M-e_H6XSGa0-",
        "outputId": "ee8f9b33-42c2-4f89-ad0e-95b8f9004a83"
      },
      "execution_count": 130,
      "outputs": [
        {
          "output_type": "stream",
          "name": "stderr",
          "text": [
            "/usr/local/lib/python3.11/dist-packages/sklearn/linear_model/_logistic.py:465: ConvergenceWarning: lbfgs failed to converge (status=1):\n",
            "STOP: TOTAL NO. OF ITERATIONS REACHED LIMIT.\n",
            "\n",
            "Increase the number of iterations (max_iter) or scale the data as shown in:\n",
            "    https://scikit-learn.org/stable/modules/preprocessing.html\n",
            "Please also refer to the documentation for alternative solver options:\n",
            "    https://scikit-learn.org/stable/modules/linear_model.html#logistic-regression\n",
            "  n_iter_i = _check_optimize_result(\n"
          ]
        },
        {
          "output_type": "execute_result",
          "data": {
            "text/plain": [
              "DecisionTreeClassifier()"
            ],
            "text/html": [
              "<style>#sk-container-id-1 {\n",
              "  /* Definition of color scheme common for light and dark mode */\n",
              "  --sklearn-color-text: #000;\n",
              "  --sklearn-color-text-muted: #666;\n",
              "  --sklearn-color-line: gray;\n",
              "  /* Definition of color scheme for unfitted estimators */\n",
              "  --sklearn-color-unfitted-level-0: #fff5e6;\n",
              "  --sklearn-color-unfitted-level-1: #f6e4d2;\n",
              "  --sklearn-color-unfitted-level-2: #ffe0b3;\n",
              "  --sklearn-color-unfitted-level-3: chocolate;\n",
              "  /* Definition of color scheme for fitted estimators */\n",
              "  --sklearn-color-fitted-level-0: #f0f8ff;\n",
              "  --sklearn-color-fitted-level-1: #d4ebff;\n",
              "  --sklearn-color-fitted-level-2: #b3dbfd;\n",
              "  --sklearn-color-fitted-level-3: cornflowerblue;\n",
              "\n",
              "  /* Specific color for light theme */\n",
              "  --sklearn-color-text-on-default-background: var(--sg-text-color, var(--theme-code-foreground, var(--jp-content-font-color1, black)));\n",
              "  --sklearn-color-background: var(--sg-background-color, var(--theme-background, var(--jp-layout-color0, white)));\n",
              "  --sklearn-color-border-box: var(--sg-text-color, var(--theme-code-foreground, var(--jp-content-font-color1, black)));\n",
              "  --sklearn-color-icon: #696969;\n",
              "\n",
              "  @media (prefers-color-scheme: dark) {\n",
              "    /* Redefinition of color scheme for dark theme */\n",
              "    --sklearn-color-text-on-default-background: var(--sg-text-color, var(--theme-code-foreground, var(--jp-content-font-color1, white)));\n",
              "    --sklearn-color-background: var(--sg-background-color, var(--theme-background, var(--jp-layout-color0, #111)));\n",
              "    --sklearn-color-border-box: var(--sg-text-color, var(--theme-code-foreground, var(--jp-content-font-color1, white)));\n",
              "    --sklearn-color-icon: #878787;\n",
              "  }\n",
              "}\n",
              "\n",
              "#sk-container-id-1 {\n",
              "  color: var(--sklearn-color-text);\n",
              "}\n",
              "\n",
              "#sk-container-id-1 pre {\n",
              "  padding: 0;\n",
              "}\n",
              "\n",
              "#sk-container-id-1 input.sk-hidden--visually {\n",
              "  border: 0;\n",
              "  clip: rect(1px 1px 1px 1px);\n",
              "  clip: rect(1px, 1px, 1px, 1px);\n",
              "  height: 1px;\n",
              "  margin: -1px;\n",
              "  overflow: hidden;\n",
              "  padding: 0;\n",
              "  position: absolute;\n",
              "  width: 1px;\n",
              "}\n",
              "\n",
              "#sk-container-id-1 div.sk-dashed-wrapped {\n",
              "  border: 1px dashed var(--sklearn-color-line);\n",
              "  margin: 0 0.4em 0.5em 0.4em;\n",
              "  box-sizing: border-box;\n",
              "  padding-bottom: 0.4em;\n",
              "  background-color: var(--sklearn-color-background);\n",
              "}\n",
              "\n",
              "#sk-container-id-1 div.sk-container {\n",
              "  /* jupyter's `normalize.less` sets `[hidden] { display: none; }`\n",
              "     but bootstrap.min.css set `[hidden] { display: none !important; }`\n",
              "     so we also need the `!important` here to be able to override the\n",
              "     default hidden behavior on the sphinx rendered scikit-learn.org.\n",
              "     See: https://github.com/scikit-learn/scikit-learn/issues/21755 */\n",
              "  display: inline-block !important;\n",
              "  position: relative;\n",
              "}\n",
              "\n",
              "#sk-container-id-1 div.sk-text-repr-fallback {\n",
              "  display: none;\n",
              "}\n",
              "\n",
              "div.sk-parallel-item,\n",
              "div.sk-serial,\n",
              "div.sk-item {\n",
              "  /* draw centered vertical line to link estimators */\n",
              "  background-image: linear-gradient(var(--sklearn-color-text-on-default-background), var(--sklearn-color-text-on-default-background));\n",
              "  background-size: 2px 100%;\n",
              "  background-repeat: no-repeat;\n",
              "  background-position: center center;\n",
              "}\n",
              "\n",
              "/* Parallel-specific style estimator block */\n",
              "\n",
              "#sk-container-id-1 div.sk-parallel-item::after {\n",
              "  content: \"\";\n",
              "  width: 100%;\n",
              "  border-bottom: 2px solid var(--sklearn-color-text-on-default-background);\n",
              "  flex-grow: 1;\n",
              "}\n",
              "\n",
              "#sk-container-id-1 div.sk-parallel {\n",
              "  display: flex;\n",
              "  align-items: stretch;\n",
              "  justify-content: center;\n",
              "  background-color: var(--sklearn-color-background);\n",
              "  position: relative;\n",
              "}\n",
              "\n",
              "#sk-container-id-1 div.sk-parallel-item {\n",
              "  display: flex;\n",
              "  flex-direction: column;\n",
              "}\n",
              "\n",
              "#sk-container-id-1 div.sk-parallel-item:first-child::after {\n",
              "  align-self: flex-end;\n",
              "  width: 50%;\n",
              "}\n",
              "\n",
              "#sk-container-id-1 div.sk-parallel-item:last-child::after {\n",
              "  align-self: flex-start;\n",
              "  width: 50%;\n",
              "}\n",
              "\n",
              "#sk-container-id-1 div.sk-parallel-item:only-child::after {\n",
              "  width: 0;\n",
              "}\n",
              "\n",
              "/* Serial-specific style estimator block */\n",
              "\n",
              "#sk-container-id-1 div.sk-serial {\n",
              "  display: flex;\n",
              "  flex-direction: column;\n",
              "  align-items: center;\n",
              "  background-color: var(--sklearn-color-background);\n",
              "  padding-right: 1em;\n",
              "  padding-left: 1em;\n",
              "}\n",
              "\n",
              "\n",
              "/* Toggleable style: style used for estimator/Pipeline/ColumnTransformer box that is\n",
              "clickable and can be expanded/collapsed.\n",
              "- Pipeline and ColumnTransformer use this feature and define the default style\n",
              "- Estimators will overwrite some part of the style using the `sk-estimator` class\n",
              "*/\n",
              "\n",
              "/* Pipeline and ColumnTransformer style (default) */\n",
              "\n",
              "#sk-container-id-1 div.sk-toggleable {\n",
              "  /* Default theme specific background. It is overwritten whether we have a\n",
              "  specific estimator or a Pipeline/ColumnTransformer */\n",
              "  background-color: var(--sklearn-color-background);\n",
              "}\n",
              "\n",
              "/* Toggleable label */\n",
              "#sk-container-id-1 label.sk-toggleable__label {\n",
              "  cursor: pointer;\n",
              "  display: flex;\n",
              "  width: 100%;\n",
              "  margin-bottom: 0;\n",
              "  padding: 0.5em;\n",
              "  box-sizing: border-box;\n",
              "  text-align: center;\n",
              "  align-items: start;\n",
              "  justify-content: space-between;\n",
              "  gap: 0.5em;\n",
              "}\n",
              "\n",
              "#sk-container-id-1 label.sk-toggleable__label .caption {\n",
              "  font-size: 0.6rem;\n",
              "  font-weight: lighter;\n",
              "  color: var(--sklearn-color-text-muted);\n",
              "}\n",
              "\n",
              "#sk-container-id-1 label.sk-toggleable__label-arrow:before {\n",
              "  /* Arrow on the left of the label */\n",
              "  content: \"▸\";\n",
              "  float: left;\n",
              "  margin-right: 0.25em;\n",
              "  color: var(--sklearn-color-icon);\n",
              "}\n",
              "\n",
              "#sk-container-id-1 label.sk-toggleable__label-arrow:hover:before {\n",
              "  color: var(--sklearn-color-text);\n",
              "}\n",
              "\n",
              "/* Toggleable content - dropdown */\n",
              "\n",
              "#sk-container-id-1 div.sk-toggleable__content {\n",
              "  max-height: 0;\n",
              "  max-width: 0;\n",
              "  overflow: hidden;\n",
              "  text-align: left;\n",
              "  /* unfitted */\n",
              "  background-color: var(--sklearn-color-unfitted-level-0);\n",
              "}\n",
              "\n",
              "#sk-container-id-1 div.sk-toggleable__content.fitted {\n",
              "  /* fitted */\n",
              "  background-color: var(--sklearn-color-fitted-level-0);\n",
              "}\n",
              "\n",
              "#sk-container-id-1 div.sk-toggleable__content pre {\n",
              "  margin: 0.2em;\n",
              "  border-radius: 0.25em;\n",
              "  color: var(--sklearn-color-text);\n",
              "  /* unfitted */\n",
              "  background-color: var(--sklearn-color-unfitted-level-0);\n",
              "}\n",
              "\n",
              "#sk-container-id-1 div.sk-toggleable__content.fitted pre {\n",
              "  /* unfitted */\n",
              "  background-color: var(--sklearn-color-fitted-level-0);\n",
              "}\n",
              "\n",
              "#sk-container-id-1 input.sk-toggleable__control:checked~div.sk-toggleable__content {\n",
              "  /* Expand drop-down */\n",
              "  max-height: 200px;\n",
              "  max-width: 100%;\n",
              "  overflow: auto;\n",
              "}\n",
              "\n",
              "#sk-container-id-1 input.sk-toggleable__control:checked~label.sk-toggleable__label-arrow:before {\n",
              "  content: \"▾\";\n",
              "}\n",
              "\n",
              "/* Pipeline/ColumnTransformer-specific style */\n",
              "\n",
              "#sk-container-id-1 div.sk-label input.sk-toggleable__control:checked~label.sk-toggleable__label {\n",
              "  color: var(--sklearn-color-text);\n",
              "  background-color: var(--sklearn-color-unfitted-level-2);\n",
              "}\n",
              "\n",
              "#sk-container-id-1 div.sk-label.fitted input.sk-toggleable__control:checked~label.sk-toggleable__label {\n",
              "  background-color: var(--sklearn-color-fitted-level-2);\n",
              "}\n",
              "\n",
              "/* Estimator-specific style */\n",
              "\n",
              "/* Colorize estimator box */\n",
              "#sk-container-id-1 div.sk-estimator input.sk-toggleable__control:checked~label.sk-toggleable__label {\n",
              "  /* unfitted */\n",
              "  background-color: var(--sklearn-color-unfitted-level-2);\n",
              "}\n",
              "\n",
              "#sk-container-id-1 div.sk-estimator.fitted input.sk-toggleable__control:checked~label.sk-toggleable__label {\n",
              "  /* fitted */\n",
              "  background-color: var(--sklearn-color-fitted-level-2);\n",
              "}\n",
              "\n",
              "#sk-container-id-1 div.sk-label label.sk-toggleable__label,\n",
              "#sk-container-id-1 div.sk-label label {\n",
              "  /* The background is the default theme color */\n",
              "  color: var(--sklearn-color-text-on-default-background);\n",
              "}\n",
              "\n",
              "/* On hover, darken the color of the background */\n",
              "#sk-container-id-1 div.sk-label:hover label.sk-toggleable__label {\n",
              "  color: var(--sklearn-color-text);\n",
              "  background-color: var(--sklearn-color-unfitted-level-2);\n",
              "}\n",
              "\n",
              "/* Label box, darken color on hover, fitted */\n",
              "#sk-container-id-1 div.sk-label.fitted:hover label.sk-toggleable__label.fitted {\n",
              "  color: var(--sklearn-color-text);\n",
              "  background-color: var(--sklearn-color-fitted-level-2);\n",
              "}\n",
              "\n",
              "/* Estimator label */\n",
              "\n",
              "#sk-container-id-1 div.sk-label label {\n",
              "  font-family: monospace;\n",
              "  font-weight: bold;\n",
              "  display: inline-block;\n",
              "  line-height: 1.2em;\n",
              "}\n",
              "\n",
              "#sk-container-id-1 div.sk-label-container {\n",
              "  text-align: center;\n",
              "}\n",
              "\n",
              "/* Estimator-specific */\n",
              "#sk-container-id-1 div.sk-estimator {\n",
              "  font-family: monospace;\n",
              "  border: 1px dotted var(--sklearn-color-border-box);\n",
              "  border-radius: 0.25em;\n",
              "  box-sizing: border-box;\n",
              "  margin-bottom: 0.5em;\n",
              "  /* unfitted */\n",
              "  background-color: var(--sklearn-color-unfitted-level-0);\n",
              "}\n",
              "\n",
              "#sk-container-id-1 div.sk-estimator.fitted {\n",
              "  /* fitted */\n",
              "  background-color: var(--sklearn-color-fitted-level-0);\n",
              "}\n",
              "\n",
              "/* on hover */\n",
              "#sk-container-id-1 div.sk-estimator:hover {\n",
              "  /* unfitted */\n",
              "  background-color: var(--sklearn-color-unfitted-level-2);\n",
              "}\n",
              "\n",
              "#sk-container-id-1 div.sk-estimator.fitted:hover {\n",
              "  /* fitted */\n",
              "  background-color: var(--sklearn-color-fitted-level-2);\n",
              "}\n",
              "\n",
              "/* Specification for estimator info (e.g. \"i\" and \"?\") */\n",
              "\n",
              "/* Common style for \"i\" and \"?\" */\n",
              "\n",
              ".sk-estimator-doc-link,\n",
              "a:link.sk-estimator-doc-link,\n",
              "a:visited.sk-estimator-doc-link {\n",
              "  float: right;\n",
              "  font-size: smaller;\n",
              "  line-height: 1em;\n",
              "  font-family: monospace;\n",
              "  background-color: var(--sklearn-color-background);\n",
              "  border-radius: 1em;\n",
              "  height: 1em;\n",
              "  width: 1em;\n",
              "  text-decoration: none !important;\n",
              "  margin-left: 0.5em;\n",
              "  text-align: center;\n",
              "  /* unfitted */\n",
              "  border: var(--sklearn-color-unfitted-level-1) 1pt solid;\n",
              "  color: var(--sklearn-color-unfitted-level-1);\n",
              "}\n",
              "\n",
              ".sk-estimator-doc-link.fitted,\n",
              "a:link.sk-estimator-doc-link.fitted,\n",
              "a:visited.sk-estimator-doc-link.fitted {\n",
              "  /* fitted */\n",
              "  border: var(--sklearn-color-fitted-level-1) 1pt solid;\n",
              "  color: var(--sklearn-color-fitted-level-1);\n",
              "}\n",
              "\n",
              "/* On hover */\n",
              "div.sk-estimator:hover .sk-estimator-doc-link:hover,\n",
              ".sk-estimator-doc-link:hover,\n",
              "div.sk-label-container:hover .sk-estimator-doc-link:hover,\n",
              ".sk-estimator-doc-link:hover {\n",
              "  /* unfitted */\n",
              "  background-color: var(--sklearn-color-unfitted-level-3);\n",
              "  color: var(--sklearn-color-background);\n",
              "  text-decoration: none;\n",
              "}\n",
              "\n",
              "div.sk-estimator.fitted:hover .sk-estimator-doc-link.fitted:hover,\n",
              ".sk-estimator-doc-link.fitted:hover,\n",
              "div.sk-label-container:hover .sk-estimator-doc-link.fitted:hover,\n",
              ".sk-estimator-doc-link.fitted:hover {\n",
              "  /* fitted */\n",
              "  background-color: var(--sklearn-color-fitted-level-3);\n",
              "  color: var(--sklearn-color-background);\n",
              "  text-decoration: none;\n",
              "}\n",
              "\n",
              "/* Span, style for the box shown on hovering the info icon */\n",
              ".sk-estimator-doc-link span {\n",
              "  display: none;\n",
              "  z-index: 9999;\n",
              "  position: relative;\n",
              "  font-weight: normal;\n",
              "  right: .2ex;\n",
              "  padding: .5ex;\n",
              "  margin: .5ex;\n",
              "  width: min-content;\n",
              "  min-width: 20ex;\n",
              "  max-width: 50ex;\n",
              "  color: var(--sklearn-color-text);\n",
              "  box-shadow: 2pt 2pt 4pt #999;\n",
              "  /* unfitted */\n",
              "  background: var(--sklearn-color-unfitted-level-0);\n",
              "  border: .5pt solid var(--sklearn-color-unfitted-level-3);\n",
              "}\n",
              "\n",
              ".sk-estimator-doc-link.fitted span {\n",
              "  /* fitted */\n",
              "  background: var(--sklearn-color-fitted-level-0);\n",
              "  border: var(--sklearn-color-fitted-level-3);\n",
              "}\n",
              "\n",
              ".sk-estimator-doc-link:hover span {\n",
              "  display: block;\n",
              "}\n",
              "\n",
              "/* \"?\"-specific style due to the `<a>` HTML tag */\n",
              "\n",
              "#sk-container-id-1 a.estimator_doc_link {\n",
              "  float: right;\n",
              "  font-size: 1rem;\n",
              "  line-height: 1em;\n",
              "  font-family: monospace;\n",
              "  background-color: var(--sklearn-color-background);\n",
              "  border-radius: 1rem;\n",
              "  height: 1rem;\n",
              "  width: 1rem;\n",
              "  text-decoration: none;\n",
              "  /* unfitted */\n",
              "  color: var(--sklearn-color-unfitted-level-1);\n",
              "  border: var(--sklearn-color-unfitted-level-1) 1pt solid;\n",
              "}\n",
              "\n",
              "#sk-container-id-1 a.estimator_doc_link.fitted {\n",
              "  /* fitted */\n",
              "  border: var(--sklearn-color-fitted-level-1) 1pt solid;\n",
              "  color: var(--sklearn-color-fitted-level-1);\n",
              "}\n",
              "\n",
              "/* On hover */\n",
              "#sk-container-id-1 a.estimator_doc_link:hover {\n",
              "  /* unfitted */\n",
              "  background-color: var(--sklearn-color-unfitted-level-3);\n",
              "  color: var(--sklearn-color-background);\n",
              "  text-decoration: none;\n",
              "}\n",
              "\n",
              "#sk-container-id-1 a.estimator_doc_link.fitted:hover {\n",
              "  /* fitted */\n",
              "  background-color: var(--sklearn-color-fitted-level-3);\n",
              "}\n",
              "</style><div id=\"sk-container-id-1\" class=\"sk-top-container\"><div class=\"sk-text-repr-fallback\"><pre>DecisionTreeClassifier()</pre><b>In a Jupyter environment, please rerun this cell to show the HTML representation or trust the notebook. <br />On GitHub, the HTML representation is unable to render, please try loading this page with nbviewer.org.</b></div><div class=\"sk-container\" hidden><div class=\"sk-item\"><div class=\"sk-estimator fitted sk-toggleable\"><input class=\"sk-toggleable__control sk-hidden--visually\" id=\"sk-estimator-id-1\" type=\"checkbox\" checked><label for=\"sk-estimator-id-1\" class=\"sk-toggleable__label fitted sk-toggleable__label-arrow\"><div><div>DecisionTreeClassifier</div></div><div><a class=\"sk-estimator-doc-link fitted\" rel=\"noreferrer\" target=\"_blank\" href=\"https://scikit-learn.org/1.6/modules/generated/sklearn.tree.DecisionTreeClassifier.html\">?<span>Documentation for DecisionTreeClassifier</span></a><span class=\"sk-estimator-doc-link fitted\">i<span>Fitted</span></span></div></label><div class=\"sk-toggleable__content fitted\"><pre>DecisionTreeClassifier()</pre></div> </div></div></div></div>"
            ]
          },
          "metadata": {},
          "execution_count": 130
        }
      ]
    },
    {
      "cell_type": "markdown",
      "source": [
        "• Calcula la metrica ROC AUC para cada modelo y comparalos."
      ],
      "metadata": {
        "id": "-kW0K7e-GgNN"
      }
    },
    {
      "cell_type": "code",
      "source": [
        "y_pred_prob_logreg = logreg.predict_proba(X_test)[:, 1]\n",
        "roc_auc_logreg = roc_auc_score(y_test, y_pred_prob_logreg)\n",
        "\n",
        "y_pred_prob_dtree = dtree.predict_proba(X_test)[:, 1]\n",
        "roc_auc_dtree = roc_auc_score(y_test, y_pred_prob_dtree)\n",
        "\n",
        "print(f\"ROC AUC para Regresión Logística: {roc_auc_logreg}\")\n",
        "print(f\"ROC AUC para Árbol de Decisión: {roc_auc_dtree}\")\n"
      ],
      "metadata": {
        "colab": {
          "base_uri": "https://localhost:8080/"
        },
        "id": "EErrbK6QGg37",
        "outputId": "68ed36d8-a538-4288-ff86-b5f1871ac2c8"
      },
      "execution_count": 131,
      "outputs": [
        {
          "output_type": "stream",
          "name": "stdout",
          "text": [
            "ROC AUC para Regresión Logística: 0.8044388904533933\n",
            "ROC AUC para Árbol de Decisión: 0.9724432084858725\n"
          ]
        }
      ]
    },
    {
      "cell_type": "code",
      "source": [
        "if roc_auc_logreg > roc_auc_dtree:\n",
        "    print(\"La Regresión Logística tiene un mejor rendimiento.\")\n",
        "else:\n",
        "    print(\"El Árbol de Decisión tiene un mejor rendimiento.\")"
      ],
      "metadata": {
        "colab": {
          "base_uri": "https://localhost:8080/"
        },
        "id": "4ro3P4SKG0MQ",
        "outputId": "19008648-0d0e-4c1a-a5c3-316e240b9660"
      },
      "execution_count": 132,
      "outputs": [
        {
          "output_type": "stream",
          "name": "stdout",
          "text": [
            "El Árbol de Decisión tiene un mejor rendimiento.\n"
          ]
        }
      ]
    },
    {
      "cell_type": "markdown",
      "source": [
        "3.5 Ejercicio 5: Evaluacion del Desempeno del Modelo\n",
        "\n",
        "\n"
      ],
      "metadata": {
        "id": "MmLoq-pkG4-R"
      }
    },
    {
      "cell_type": "markdown",
      "source": [
        "- ¿Que modelo tiene el mejor desempeno general? Justifica tu respuesta utilizando las metricas.\n",
        "- ¿Como impacta el desbalanceo de clases en la metrica ROC AUC y en otras metricas?\n",
        "- ¿Que acciones tomarıas si el modelo tiene un alto sesgo hacia la clase mayoritaria?"
      ],
      "metadata": {
        "id": "JIhrzEFtHJWw"
      }
    },
    {
      "cell_type": "markdown",
      "source": [
        "- El modelo con mejor rendimiento general es Árbol de Decisión, basado en el ROC AUC\n",
        "\n",
        "- El desbalanceo de clases puede distorsionar la exactitud (accuracy), ya que un modelo que siempre predice la clase mayoritaria puede parecer preciso aunque no identifique correctamente la clase minoritaria.\n",
        "La métrica ROC AUC es menos sensible al desbalanceo porque evalúa la capacidad del modelo para distinguir entre clases. Sin embargo, si la clase minoritaria es de mayor interés (por ejemplo, clientes de alto riesgo), métricas como sensibilidad, precisión y F1-score son más representativas y deben priorizarse.\n",
        "\n",
        "- Si el modelo favorece excesivamente a la clase mayoritaria, se pueden tomar varias medidas para corregir este sesgo:\n",
        "\n",
        "Re-muestreo de datos: Técnicas como SMOTE (oversampling de la clase minoritaria) o undersampling de la clase mayoritaria ayudan a equilibrar el conjunto de entrenamiento.\n",
        "\n",
        "Cost-sensitive learning: Asignar un mayor peso a los errores en la clase minoritaria para que el modelo penalice más los falsos negativos.\n",
        "\n",
        "Uso de métricas adecuadas: Evaluar el modelo con precisión, sensibilidad, F1-score y curvas de precisión-recall, en lugar de depender solo de la exactitud.\n",
        "\n",
        "Elección del algoritmo: Optar por modelos menos sensibles al desbalance, como árboles de decisión con ajuste de pesos o ensembles como XGBoost con scale_pos_weight.\n",
        "\n",
        "Aumento de datos minoritarios: Si es posible, generar o recolectar más ejemplos de la clase minoritaria para mejorar la representación"
      ],
      "metadata": {
        "id": "_W-uckLCIAnx"
      }
    },
    {
      "cell_type": "markdown",
      "source": [
        "4 Reflexion Crıtica\n",
        "\n",
        "Despues de completar los ejercicios, reflexiona sobre los siguientes puntos:\n",
        "- ¿Que desafıos enfrentaste al trabajar con los datos proporcionados?\n",
        "- ¿Que mejorarıas en el proceso de preprocesamiento de datos?\n",
        "- Si pudieras recolectar mas datos, ¿que variables adicionales serıan utiles para mejorar el modelo\n",
        "de clasificacion?\n",
        "- ¿Como asegurarıas que el modelo generalice bien y no este sobreajustado?\n",
        "- ¿Que impacto tuvo el desbalanceo de clases en la precision de tu modelo? ¿Como se resolvio con\n",
        "SMOTE?\n",
        "-¿Como detectarıas y manejarıas el overfitting en un modelo de Machine Learning? ¿Que tecnicas\n",
        "implementarıas para mejorar la capacidad de generalizacion?"
      ],
      "metadata": {
        "id": "ce73Juz-ISkj"
      }
    },
    {
      "cell_type": "markdown",
      "source": [
        "- Los principales desafíos fueron el preprocesamiento de los datos, especialmente la conversión de variables categóricas a numéricas y el manejo de valores faltantes.  También fue un reto entender la correlación entre las variables y cómo eso podría afectar la precisión del modelo. Finalmente, el desbalanceo de clases representó un desafío importante que requirió el uso de SMOTE para una mejor predicción.\n",
        "\n",
        "- Se podría mejorar la imputación de valores faltantes explorando diferentes estrategias (como la imputación KNN o la imputación por regresión) en lugar de usar solo la media.  También, se podría realizar una exploración más exhaustiva de las variables categóricas para verificar si existen relaciones más complejas que las binarizaciones realizadas y aplicar técnicas de codificación más sofisticadas como one-hot encoding o target encoding.  Además, un análisis más profundo de outliers podría identificar si hay valores erróneos y cómo corregirlos o eliminarlos de manera más efectiva.\n",
        "\n",
        "- Variables adicionales que podrían ser útiles incluyen:  historial crediticio del solicitante (número de préstamos anteriores, incumplimientos, etc.),  estado civil,  ocupación,  dependencia económica, ingresos de otras fuentes, estabilidad laboral, gastos mensuales, razones para solicitar el préstamo, región de residencia y si tiene activos que puede poner como garantía.\n",
        "\n",
        "- Para asegurar la generalización del modelo y evitar el sobreajuste se podría utilizar la validación cruzada (k-fold cross-validation) para evaluar el desempeño del modelo con diferentes particiones de los datos.  Regularización (L1 o L2) podría ser aplicada a los modelos para penalizar los coeficientes grandes.  También se podría probar la técnica de Early Stopping en caso de utilizar redes neuronales.  Reducción de la complejidad del modelo (por ejemplo, limitar la profundidad de los árboles de decisión) también puede ayudar a mejorar la generalización.\n",
        "\n",
        "\n",
        "- El desbalanceo de clases, al tener una cantidad significativamente mayor de solicitudes aprobadas en comparación a rechazadas, impactó en la precisión (accuracy) del modelo, ya que podía tender a predecir la clase mayoritaria con mayor frecuencia. SMOTE (Synthetic Minority Over-sampling Technique) generó ejemplos sintéticos para la clase minoritaria (prestamos rechazados), equilibrando las clases y, por tanto, mejorando la capacidad del modelo para reconocer patrones en ambos grupos y reduciendo la probabilidad de que el modelo predice solamente la clase mayoritaria.\n"
      ],
      "metadata": {
        "id": "i8w1bBPJIv9m"
      }
    }
  ]
}