{
  "cells": [
    {
      "cell_type": "markdown",
      "metadata": {
        "id": "view-in-github",
        "colab_type": "text"
      },
      "source": [
        "<a href=\"https://colab.research.google.com/github/gabrielamorales02/IntroMachineLearning/blob/main/preparcial_metodos_predictivos.ipynb\" target=\"_parent\"><img src=\"https://colab.research.google.com/assets/colab-badge.svg\" alt=\"Open In Colab\"/></a>"
      ]
    },
    {
      "cell_type": "markdown",
      "id": "0b418101",
      "metadata": {
        "id": "0b418101"
      },
      "source": [
        "# 🧪 Pre‑Parcial – Métodos Predictivos\n",
        "**Supervisado vs. No Supervisado**\n",
        "\n",
        "> Completa las celdas con `TODO` y ejecuta *Runtime → Run all* antes de entregar.\n"
      ]
    },
    {
      "cell_type": "markdown",
      "id": "5b235da4",
      "metadata": {
        "id": "5b235da4"
      },
      "source": [
        "### Contenido\n",
        "1. [Parte A – Teoría](#parte-a)\n",
        "2. [Parte B – Práctica](#parte-b)\n"
      ]
    },
    {
      "cell_type": "markdown",
      "id": "6bf1ec3f",
      "metadata": {
        "id": "6bf1ec3f"
      },
      "source": [
        "## <a id='parte-a'></a>📝 Parte A — Cuestionario Teórico (40 pts)\n",
        "Responde **brevemente** en las celdas Markdown que siguen a cada pregunta.\n"
      ]
    },
    {
      "cell_type": "markdown",
      "id": "29324086",
      "metadata": {
        "id": "29324086"
      },
      "source": [
        "#### 1️⃣ **Variable objetivo (y)** – Defínela y da un ejemplo en este dataset.\n",
        "\n",
        "*Respuesta:* Es la variable que queremos predecir.\n"
      ]
    },
    {
      "cell_type": "code",
      "source": [
        "# prompt: Responde **brevemente** en las celdas Markdown que siguen a cada pregunta. Define brevemente un **embedding** en NLP y su utilidad.\n",
        "\n",
        "Un embedding en NLP es una representación vectorial densa de una palabra o frase, capturando su significado y relaciones semánticas con otras palabras. Son útiles para que los algoritmos entiendan y procesen texto de manera efectiva."
      ],
      "metadata": {
        "id": "Gn2Ma8WsknUP"
      },
      "id": "Gn2Ma8WsknUP",
      "execution_count": null,
      "outputs": []
    },
    {
      "cell_type": "markdown",
      "id": "00e18666",
      "metadata": {
        "id": "00e18666"
      },
      "source": [
        "#### 2️⃣ Ordena las fases del *pipeline* de ML: `Modelado`, `Pre‑procesamiento`, `EDA`, `Evaluación`, `Insight de negocio`.\n",
        "\n",
        "*Respuesta:*\n",
        "1. Insight de negocio\n",
        "2. EDA\n",
        "3. Pre-procesamiento\n",
        "4. Modelado\n",
        "5. Evaluación\n"
      ]
    },
    {
      "cell_type": "markdown",
      "id": "910a8986",
      "metadata": {
        "id": "910a8986"
      },
      "source": [
        "#### 3️⃣ Para un problema de **clases desbalanceadas**, ¿qué métrica priorizarías y por qué?\n",
        "\n",
        "*Respuesta:* Para problemas de clases desbalanceadas, se prioriza el F1 Score porque equilibra precisión y recall, dando una mejor medida del rendimiento en la clase minoritaria que la exactitud.\n",
        "\n",
        "\n",
        "\n",
        "\n",
        "\n",
        "\n",
        "\n"
      ]
    },
    {
      "cell_type": "markdown",
      "id": "4de30673",
      "metadata": {
        "id": "4de30673"
      },
      "source": [
        "#### 4️⃣ Describe **overfitting** y cómo lo detectarías en la práctica.\n",
        "\n",
        "*Respuesta:* Se produce cuando un modelo aprende los datos de entrenamiento tan bien que memoriza el ruido en lugar de la señal subyacente. Se detecta al observar que el modelo tiene un rendimiento muy bueno en los datos de entrenamiento pero un rendimiento significativamente peor en datos nuevos o de prueba.\n"
      ]
    },
    {
      "cell_type": "markdown",
      "id": "e3fbcf52",
      "metadata": {
        "id": "e3fbcf52"
      },
      "source": [
        "#### 5️⃣ Completa: *K‑means es un algoritmo de _________ porque ________.*\n",
        "\n",
        "*Respuesta:* K‑means es un algoritmo de agrupacion porque no necesita datos de etiquetados\n",
        "\n"
      ]
    },
    {
      "cell_type": "markdown",
      "id": "033b889a",
      "metadata": {
        "id": "033b889a"
      },
      "source": [
        "#### 7️⃣ En **regresión**, ¿cómo es la variable objetivo? (cualitativa, cuantitativa, binaria…).\n",
        "\n",
        "*Respuesta:* Una variable cuantitativa.\n"
      ]
    },
    {
      "cell_type": "markdown",
      "id": "aea04580",
      "metadata": {
        "id": "aea04580"
      },
      "source": [
        "#### 8️⃣ Menciona 2 técnicas comunes de **pre‑procesamiento de texto**.\n",
        "\n",
        "*Respuesta:* Limpieza de texto y tokenización\n"
      ]
    },
    {
      "cell_type": "markdown",
      "id": "7dc106a4",
      "metadata": {
        "id": "7dc106a4"
      },
      "source": [
        "#### 9️⃣ ¿Qué representa el parámetro *k* en K‑means y qué ocurre si es muy grande?\n",
        "\n",
        "*Respuesta:* K representa el número de clústeres que se esperan encontrar en los datos. Si K es muy grande, cada clúster puede contener pocos puntos o incluso un solo punto, lo que puede llevar a un sobreajuste y a clústeres menos significativos.\n"
      ]
    },
    {
      "cell_type": "markdown",
      "id": "86dcdc0c",
      "metadata": {
        "id": "86dcdc0c"
      },
      "source": [
        "#### 🔟 Define brevemente un **embedding** en NLP y su utilidad.\n",
        "\n",
        "*Respuesta:* Un embedding en NLP es una representación vectorial densa de una palabra o frase, capturando su significado y relaciones semánticas con otras palabras. Son útiles para que los algoritmos entiendan y procesen texto de manera efectiva.\n"
      ]
    },
    {
      "cell_type": "markdown",
      "id": "2801cc8c",
      "metadata": {
        "id": "2801cc8c"
      },
      "source": [
        "## <a id='parte-b'></a>💻 Parte B — Práctica (60 pts)\n",
        "Trabajarás con la tabla de reseñas de Amazon que contiene, entre otras, las columnas `reviewerID`, `asin`, `helpful`, `reviewText`, `overall`, `summary`, `unixReviewTime`, `day_diff`.\n",
        "\n",
        "> **Objetivos**\n",
        "> 1. Clasificar reseñas positivas (rating ≥ 4) vs negativas.\n",
        "> 2. Agrupar reseñas con K‑means y perfilar clusters.\n"
      ]
    },
    {
      "cell_type": "markdown",
      "source": [
        "Columnas de la tabla\n",
        "📄 Reviewer ID: Unique identifier for the reviewer.\n",
        "\n",
        "📦 ASIN: Amazon Standard Identification Number for the product.\n",
        "\n",
        "👤 Reviewer Name: Name of the reviewer.\n",
        "\n",
        "👍 Helpful: Number of helpful votes the review received.\n",
        "\n",
        "📝 Review Text: The content of the review written by the customer.\n",
        "\n",
        "⭐ Overall Rating: The overall rating given to the product (ranging from 1 to 5 stars).\n",
        "\n",
        "📰 Summary: A brief summary of the review.\n",
        "\n",
        "🕰️ Unix Review Time: The time the review was posted in Unix timestamp format.\n",
        "\n",
        "📅 Review Time: The time the review was posted in a readable date format.\n",
        "\n",
        "📆 Day Difference: The number of days between the review date and the current date.\n",
        "\n",
        "✔️ Helpful Yes: Number of positive helpful votes.\n",
        "\n",
        "🔢 Total Votes: Total number of votes the review received."
      ],
      "metadata": {
        "id": "7hsADh7PqTRf"
      },
      "id": "7hsADh7PqTRf"
    },
    {
      "cell_type": "code",
      "source": [],
      "metadata": {
        "id": "xwQNSSRSqTBp"
      },
      "id": "xwQNSSRSqTBp",
      "execution_count": null,
      "outputs": []
    },
    {
      "cell_type": "markdown",
      "id": "37f40c50",
      "metadata": {
        "id": "37f40c50"
      },
      "source": [
        "### 1. Setup"
      ]
    },
    {
      "cell_type": "code",
      "execution_count": 1,
      "id": "e0037397",
      "metadata": {
        "id": "e0037397"
      },
      "outputs": [],
      "source": [
        "# Instala paquetes extra si los necesitas\n",
        "# !pip install shap\n",
        "\n",
        "import pandas as pd, numpy as np, matplotlib.pyplot as plt, seaborn as sns\n",
        "from sklearn.model_selection import train_test_split\n",
        "from sklearn.feature_extraction.text import TfidfVectorizer\n",
        "from sklearn.pipeline import Pipeline\n",
        "from sklearn.linear_model import LogisticRegression\n",
        "from sklearn.metrics import classification_report, ConfusionMatrixDisplay\n",
        "from sklearn.cluster import KMeans\n",
        "from sklearn.metrics import silhouette_score\n",
        "import warnings, random, os\n",
        "warnings.filterwarnings('ignore')\n",
        "random.seed(42)\n",
        "np.random.seed(42)"
      ]
    },
    {
      "cell_type": "markdown",
      "id": "bb527f5e",
      "metadata": {
        "id": "bb527f5e"
      },
      "source": [
        "### 2. Carga del dataset"
      ]
    },
    {
      "cell_type": "code",
      "source": [
        "!wget https://github.com/javierherrera1996/IntroMachineLearning/raw/refs/heads/main/TercerCorte/amazon_review.csv.zip"
      ],
      "metadata": {
        "colab": {
          "base_uri": "https://localhost:8080/"
        },
        "id": "JXgp7kP5oj1e",
        "outputId": "fa4ccf5a-9242-4237-c43c-f7818ed09beb"
      },
      "id": "JXgp7kP5oj1e",
      "execution_count": 2,
      "outputs": [
        {
          "output_type": "stream",
          "name": "stdout",
          "text": [
            "--2025-05-31 00:43:13--  https://github.com/javierherrera1996/IntroMachineLearning/raw/refs/heads/main/TercerCorte/amazon_review.csv.zip\n",
            "Resolving github.com (github.com)... 140.82.112.3\n",
            "Connecting to github.com (github.com)|140.82.112.3|:443... connected.\n",
            "HTTP request sent, awaiting response... 302 Found\n",
            "Location: https://raw.githubusercontent.com/javierherrera1996/IntroMachineLearning/refs/heads/main/TercerCorte/amazon_review.csv.zip [following]\n",
            "--2025-05-31 00:43:13--  https://raw.githubusercontent.com/javierherrera1996/IntroMachineLearning/refs/heads/main/TercerCorte/amazon_review.csv.zip\n",
            "Resolving raw.githubusercontent.com (raw.githubusercontent.com)... 185.199.110.133, 185.199.111.133, 185.199.108.133, ...\n",
            "Connecting to raw.githubusercontent.com (raw.githubusercontent.com)|185.199.110.133|:443... connected.\n",
            "HTTP request sent, awaiting response... 200 OK\n",
            "Length: 721801 (705K) [application/zip]\n",
            "Saving to: ‘amazon_review.csv.zip’\n",
            "\n",
            "amazon_review.csv.z 100%[===================>] 704.88K  --.-KB/s    in 0.06s   \n",
            "\n",
            "2025-05-31 00:43:14 (12.3 MB/s) - ‘amazon_review.csv.zip’ saved [721801/721801]\n",
            "\n"
          ]
        }
      ]
    },
    {
      "cell_type": "code",
      "source": [
        "!unzip amazon_review.csv.zip"
      ],
      "metadata": {
        "colab": {
          "base_uri": "https://localhost:8080/"
        },
        "id": "AK_yVUSMoovr",
        "outputId": "854f3705-8f80-44df-8fbe-efdda97efa26"
      },
      "id": "AK_yVUSMoovr",
      "execution_count": 4,
      "outputs": [
        {
          "output_type": "stream",
          "name": "stdout",
          "text": [
            "Archive:  amazon_review.csv.zip\n",
            "  inflating: amazon_review.csv       \n"
          ]
        }
      ]
    },
    {
      "cell_type": "code",
      "source": [
        "import pandas as pd\n",
        "df = pd.read_csv('amazon_review.csv')\n",
        "df.head()"
      ],
      "metadata": {
        "colab": {
          "base_uri": "https://localhost:8080/",
          "height": 397
        },
        "id": "nuH4Usfbok5j",
        "outputId": "c409beb2-0099-49bc-aee2-a2c56605d222"
      },
      "id": "nuH4Usfbok5j",
      "execution_count": 5,
      "outputs": [
        {
          "output_type": "execute_result",
          "data": {
            "text/plain": [
              "       reviewerID        asin  reviewerName helpful  \\\n",
              "0  A3SBTW3WS4IQSN  B007WTAJTO           NaN  [0, 0]   \n",
              "1  A18K1ODH1I2MVB  B007WTAJTO          0mie  [0, 0]   \n",
              "2  A2FII3I2MBMUIA  B007WTAJTO           1K3  [0, 0]   \n",
              "3   A3H99DFEG68SR  B007WTAJTO           1m2  [0, 0]   \n",
              "4  A375ZM4U047O79  B007WTAJTO  2&amp;1/2Men  [0, 0]   \n",
              "\n",
              "                                          reviewText  overall  \\\n",
              "0                                         No issues.      4.0   \n",
              "1  Purchased this for my device, it worked as adv...      5.0   \n",
              "2  it works as expected. I should have sprung for...      4.0   \n",
              "3  This think has worked out great.Had a diff. br...      5.0   \n",
              "4  Bought it with Retail Packaging, arrived legit...      5.0   \n",
              "\n",
              "                                  summary  unixReviewTime  reviewTime  \\\n",
              "0                              Four Stars      1406073600  2014-07-23   \n",
              "1                           MOAR SPACE!!!      1382659200  2013-10-25   \n",
              "2               nothing to really say....      1356220800  2012-12-23   \n",
              "3  Great buy at this price!!!  *** UPDATE      1384992000  2013-11-21   \n",
              "4                        best deal around      1373673600  2013-07-13   \n",
              "\n",
              "   day_diff  helpful_yes  total_vote  \n",
              "0       138            0           0  \n",
              "1       409            0           0  \n",
              "2       715            0           0  \n",
              "3       382            0           0  \n",
              "4       513            0           0  "
            ],
            "text/html": [
              "\n",
              "  <div id=\"df-28e753b3-ac5f-40f9-9883-edc22f5085df\" class=\"colab-df-container\">\n",
              "    <div>\n",
              "<style scoped>\n",
              "    .dataframe tbody tr th:only-of-type {\n",
              "        vertical-align: middle;\n",
              "    }\n",
              "\n",
              "    .dataframe tbody tr th {\n",
              "        vertical-align: top;\n",
              "    }\n",
              "\n",
              "    .dataframe thead th {\n",
              "        text-align: right;\n",
              "    }\n",
              "</style>\n",
              "<table border=\"1\" class=\"dataframe\">\n",
              "  <thead>\n",
              "    <tr style=\"text-align: right;\">\n",
              "      <th></th>\n",
              "      <th>reviewerID</th>\n",
              "      <th>asin</th>\n",
              "      <th>reviewerName</th>\n",
              "      <th>helpful</th>\n",
              "      <th>reviewText</th>\n",
              "      <th>overall</th>\n",
              "      <th>summary</th>\n",
              "      <th>unixReviewTime</th>\n",
              "      <th>reviewTime</th>\n",
              "      <th>day_diff</th>\n",
              "      <th>helpful_yes</th>\n",
              "      <th>total_vote</th>\n",
              "    </tr>\n",
              "  </thead>\n",
              "  <tbody>\n",
              "    <tr>\n",
              "      <th>0</th>\n",
              "      <td>A3SBTW3WS4IQSN</td>\n",
              "      <td>B007WTAJTO</td>\n",
              "      <td>NaN</td>\n",
              "      <td>[0, 0]</td>\n",
              "      <td>No issues.</td>\n",
              "      <td>4.0</td>\n",
              "      <td>Four Stars</td>\n",
              "      <td>1406073600</td>\n",
              "      <td>2014-07-23</td>\n",
              "      <td>138</td>\n",
              "      <td>0</td>\n",
              "      <td>0</td>\n",
              "    </tr>\n",
              "    <tr>\n",
              "      <th>1</th>\n",
              "      <td>A18K1ODH1I2MVB</td>\n",
              "      <td>B007WTAJTO</td>\n",
              "      <td>0mie</td>\n",
              "      <td>[0, 0]</td>\n",
              "      <td>Purchased this for my device, it worked as adv...</td>\n",
              "      <td>5.0</td>\n",
              "      <td>MOAR SPACE!!!</td>\n",
              "      <td>1382659200</td>\n",
              "      <td>2013-10-25</td>\n",
              "      <td>409</td>\n",
              "      <td>0</td>\n",
              "      <td>0</td>\n",
              "    </tr>\n",
              "    <tr>\n",
              "      <th>2</th>\n",
              "      <td>A2FII3I2MBMUIA</td>\n",
              "      <td>B007WTAJTO</td>\n",
              "      <td>1K3</td>\n",
              "      <td>[0, 0]</td>\n",
              "      <td>it works as expected. I should have sprung for...</td>\n",
              "      <td>4.0</td>\n",
              "      <td>nothing to really say....</td>\n",
              "      <td>1356220800</td>\n",
              "      <td>2012-12-23</td>\n",
              "      <td>715</td>\n",
              "      <td>0</td>\n",
              "      <td>0</td>\n",
              "    </tr>\n",
              "    <tr>\n",
              "      <th>3</th>\n",
              "      <td>A3H99DFEG68SR</td>\n",
              "      <td>B007WTAJTO</td>\n",
              "      <td>1m2</td>\n",
              "      <td>[0, 0]</td>\n",
              "      <td>This think has worked out great.Had a diff. br...</td>\n",
              "      <td>5.0</td>\n",
              "      <td>Great buy at this price!!!  *** UPDATE</td>\n",
              "      <td>1384992000</td>\n",
              "      <td>2013-11-21</td>\n",
              "      <td>382</td>\n",
              "      <td>0</td>\n",
              "      <td>0</td>\n",
              "    </tr>\n",
              "    <tr>\n",
              "      <th>4</th>\n",
              "      <td>A375ZM4U047O79</td>\n",
              "      <td>B007WTAJTO</td>\n",
              "      <td>2&amp;amp;1/2Men</td>\n",
              "      <td>[0, 0]</td>\n",
              "      <td>Bought it with Retail Packaging, arrived legit...</td>\n",
              "      <td>5.0</td>\n",
              "      <td>best deal around</td>\n",
              "      <td>1373673600</td>\n",
              "      <td>2013-07-13</td>\n",
              "      <td>513</td>\n",
              "      <td>0</td>\n",
              "      <td>0</td>\n",
              "    </tr>\n",
              "  </tbody>\n",
              "</table>\n",
              "</div>\n",
              "    <div class=\"colab-df-buttons\">\n",
              "\n",
              "  <div class=\"colab-df-container\">\n",
              "    <button class=\"colab-df-convert\" onclick=\"convertToInteractive('df-28e753b3-ac5f-40f9-9883-edc22f5085df')\"\n",
              "            title=\"Convert this dataframe to an interactive table.\"\n",
              "            style=\"display:none;\">\n",
              "\n",
              "  <svg xmlns=\"http://www.w3.org/2000/svg\" height=\"24px\" viewBox=\"0 -960 960 960\">\n",
              "    <path d=\"M120-120v-720h720v720H120Zm60-500h600v-160H180v160Zm220 220h160v-160H400v160Zm0 220h160v-160H400v160ZM180-400h160v-160H180v160Zm440 0h160v-160H620v160ZM180-180h160v-160H180v160Zm440 0h160v-160H620v160Z\"/>\n",
              "  </svg>\n",
              "    </button>\n",
              "\n",
              "  <style>\n",
              "    .colab-df-container {\n",
              "      display:flex;\n",
              "      gap: 12px;\n",
              "    }\n",
              "\n",
              "    .colab-df-convert {\n",
              "      background-color: #E8F0FE;\n",
              "      border: none;\n",
              "      border-radius: 50%;\n",
              "      cursor: pointer;\n",
              "      display: none;\n",
              "      fill: #1967D2;\n",
              "      height: 32px;\n",
              "      padding: 0 0 0 0;\n",
              "      width: 32px;\n",
              "    }\n",
              "\n",
              "    .colab-df-convert:hover {\n",
              "      background-color: #E2EBFA;\n",
              "      box-shadow: 0px 1px 2px rgba(60, 64, 67, 0.3), 0px 1px 3px 1px rgba(60, 64, 67, 0.15);\n",
              "      fill: #174EA6;\n",
              "    }\n",
              "\n",
              "    .colab-df-buttons div {\n",
              "      margin-bottom: 4px;\n",
              "    }\n",
              "\n",
              "    [theme=dark] .colab-df-convert {\n",
              "      background-color: #3B4455;\n",
              "      fill: #D2E3FC;\n",
              "    }\n",
              "\n",
              "    [theme=dark] .colab-df-convert:hover {\n",
              "      background-color: #434B5C;\n",
              "      box-shadow: 0px 1px 3px 1px rgba(0, 0, 0, 0.15);\n",
              "      filter: drop-shadow(0px 1px 2px rgba(0, 0, 0, 0.3));\n",
              "      fill: #FFFFFF;\n",
              "    }\n",
              "  </style>\n",
              "\n",
              "    <script>\n",
              "      const buttonEl =\n",
              "        document.querySelector('#df-28e753b3-ac5f-40f9-9883-edc22f5085df button.colab-df-convert');\n",
              "      buttonEl.style.display =\n",
              "        google.colab.kernel.accessAllowed ? 'block' : 'none';\n",
              "\n",
              "      async function convertToInteractive(key) {\n",
              "        const element = document.querySelector('#df-28e753b3-ac5f-40f9-9883-edc22f5085df');\n",
              "        const dataTable =\n",
              "          await google.colab.kernel.invokeFunction('convertToInteractive',\n",
              "                                                    [key], {});\n",
              "        if (!dataTable) return;\n",
              "\n",
              "        const docLinkHtml = 'Like what you see? Visit the ' +\n",
              "          '<a target=\"_blank\" href=https://colab.research.google.com/notebooks/data_table.ipynb>data table notebook</a>'\n",
              "          + ' to learn more about interactive tables.';\n",
              "        element.innerHTML = '';\n",
              "        dataTable['output_type'] = 'display_data';\n",
              "        await google.colab.output.renderOutput(dataTable, element);\n",
              "        const docLink = document.createElement('div');\n",
              "        docLink.innerHTML = docLinkHtml;\n",
              "        element.appendChild(docLink);\n",
              "      }\n",
              "    </script>\n",
              "  </div>\n",
              "\n",
              "\n",
              "    <div id=\"df-e98e4de4-9ffd-4e71-8f38-ccb144bd7811\">\n",
              "      <button class=\"colab-df-quickchart\" onclick=\"quickchart('df-e98e4de4-9ffd-4e71-8f38-ccb144bd7811')\"\n",
              "                title=\"Suggest charts\"\n",
              "                style=\"display:none;\">\n",
              "\n",
              "<svg xmlns=\"http://www.w3.org/2000/svg\" height=\"24px\"viewBox=\"0 0 24 24\"\n",
              "     width=\"24px\">\n",
              "    <g>\n",
              "        <path d=\"M19 3H5c-1.1 0-2 .9-2 2v14c0 1.1.9 2 2 2h14c1.1 0 2-.9 2-2V5c0-1.1-.9-2-2-2zM9 17H7v-7h2v7zm4 0h-2V7h2v10zm4 0h-2v-4h2v4z\"/>\n",
              "    </g>\n",
              "</svg>\n",
              "      </button>\n",
              "\n",
              "<style>\n",
              "  .colab-df-quickchart {\n",
              "      --bg-color: #E8F0FE;\n",
              "      --fill-color: #1967D2;\n",
              "      --hover-bg-color: #E2EBFA;\n",
              "      --hover-fill-color: #174EA6;\n",
              "      --disabled-fill-color: #AAA;\n",
              "      --disabled-bg-color: #DDD;\n",
              "  }\n",
              "\n",
              "  [theme=dark] .colab-df-quickchart {\n",
              "      --bg-color: #3B4455;\n",
              "      --fill-color: #D2E3FC;\n",
              "      --hover-bg-color: #434B5C;\n",
              "      --hover-fill-color: #FFFFFF;\n",
              "      --disabled-bg-color: #3B4455;\n",
              "      --disabled-fill-color: #666;\n",
              "  }\n",
              "\n",
              "  .colab-df-quickchart {\n",
              "    background-color: var(--bg-color);\n",
              "    border: none;\n",
              "    border-radius: 50%;\n",
              "    cursor: pointer;\n",
              "    display: none;\n",
              "    fill: var(--fill-color);\n",
              "    height: 32px;\n",
              "    padding: 0;\n",
              "    width: 32px;\n",
              "  }\n",
              "\n",
              "  .colab-df-quickchart:hover {\n",
              "    background-color: var(--hover-bg-color);\n",
              "    box-shadow: 0 1px 2px rgba(60, 64, 67, 0.3), 0 1px 3px 1px rgba(60, 64, 67, 0.15);\n",
              "    fill: var(--button-hover-fill-color);\n",
              "  }\n",
              "\n",
              "  .colab-df-quickchart-complete:disabled,\n",
              "  .colab-df-quickchart-complete:disabled:hover {\n",
              "    background-color: var(--disabled-bg-color);\n",
              "    fill: var(--disabled-fill-color);\n",
              "    box-shadow: none;\n",
              "  }\n",
              "\n",
              "  .colab-df-spinner {\n",
              "    border: 2px solid var(--fill-color);\n",
              "    border-color: transparent;\n",
              "    border-bottom-color: var(--fill-color);\n",
              "    animation:\n",
              "      spin 1s steps(1) infinite;\n",
              "  }\n",
              "\n",
              "  @keyframes spin {\n",
              "    0% {\n",
              "      border-color: transparent;\n",
              "      border-bottom-color: var(--fill-color);\n",
              "      border-left-color: var(--fill-color);\n",
              "    }\n",
              "    20% {\n",
              "      border-color: transparent;\n",
              "      border-left-color: var(--fill-color);\n",
              "      border-top-color: var(--fill-color);\n",
              "    }\n",
              "    30% {\n",
              "      border-color: transparent;\n",
              "      border-left-color: var(--fill-color);\n",
              "      border-top-color: var(--fill-color);\n",
              "      border-right-color: var(--fill-color);\n",
              "    }\n",
              "    40% {\n",
              "      border-color: transparent;\n",
              "      border-right-color: var(--fill-color);\n",
              "      border-top-color: var(--fill-color);\n",
              "    }\n",
              "    60% {\n",
              "      border-color: transparent;\n",
              "      border-right-color: var(--fill-color);\n",
              "    }\n",
              "    80% {\n",
              "      border-color: transparent;\n",
              "      border-right-color: var(--fill-color);\n",
              "      border-bottom-color: var(--fill-color);\n",
              "    }\n",
              "    90% {\n",
              "      border-color: transparent;\n",
              "      border-bottom-color: var(--fill-color);\n",
              "    }\n",
              "  }\n",
              "</style>\n",
              "\n",
              "      <script>\n",
              "        async function quickchart(key) {\n",
              "          const quickchartButtonEl =\n",
              "            document.querySelector('#' + key + ' button');\n",
              "          quickchartButtonEl.disabled = true;  // To prevent multiple clicks.\n",
              "          quickchartButtonEl.classList.add('colab-df-spinner');\n",
              "          try {\n",
              "            const charts = await google.colab.kernel.invokeFunction(\n",
              "                'suggestCharts', [key], {});\n",
              "          } catch (error) {\n",
              "            console.error('Error during call to suggestCharts:', error);\n",
              "          }\n",
              "          quickchartButtonEl.classList.remove('colab-df-spinner');\n",
              "          quickchartButtonEl.classList.add('colab-df-quickchart-complete');\n",
              "        }\n",
              "        (() => {\n",
              "          let quickchartButtonEl =\n",
              "            document.querySelector('#df-e98e4de4-9ffd-4e71-8f38-ccb144bd7811 button');\n",
              "          quickchartButtonEl.style.display =\n",
              "            google.colab.kernel.accessAllowed ? 'block' : 'none';\n",
              "        })();\n",
              "      </script>\n",
              "    </div>\n",
              "\n",
              "    </div>\n",
              "  </div>\n"
            ],
            "application/vnd.google.colaboratory.intrinsic+json": {
              "type": "dataframe",
              "variable_name": "df",
              "summary": "{\n  \"name\": \"df\",\n  \"rows\": 4915,\n  \"fields\": [\n    {\n      \"column\": \"reviewerID\",\n      \"properties\": {\n        \"dtype\": \"string\",\n        \"num_unique_values\": 4915,\n        \"samples\": [\n          \"A3V5DNLW7DPMUA\",\n          \"A1F08OEM2LEJLK\",\n          \"AOOJ8Y18T3DGM\"\n        ],\n        \"semantic_type\": \"\",\n        \"description\": \"\"\n      }\n    },\n    {\n      \"column\": \"asin\",\n      \"properties\": {\n        \"dtype\": \"category\",\n        \"num_unique_values\": 1,\n        \"samples\": [\n          \"B007WTAJTO\"\n        ],\n        \"semantic_type\": \"\",\n        \"description\": \"\"\n      }\n    },\n    {\n      \"column\": \"reviewerName\",\n      \"properties\": {\n        \"dtype\": \"string\",\n        \"num_unique_values\": 4594,\n        \"samples\": [\n          \"nta699\"\n        ],\n        \"semantic_type\": \"\",\n        \"description\": \"\"\n      }\n    },\n    {\n      \"column\": \"helpful\",\n      \"properties\": {\n        \"dtype\": \"category\",\n        \"num_unique_values\": 42,\n        \"samples\": [\n          \"[1952, 2020]\"\n        ],\n        \"semantic_type\": \"\",\n        \"description\": \"\"\n      }\n    },\n    {\n      \"column\": \"reviewText\",\n      \"properties\": {\n        \"dtype\": \"string\",\n        \"num_unique_values\": 4912,\n        \"samples\": [\n          \"Bought this for extended memory in a Galaxy S III.  Great price. Easy to install and the phone recognized it instantly. Does what its supposed to do.\"\n        ],\n        \"semantic_type\": \"\",\n        \"description\": \"\"\n      }\n    },\n    {\n      \"column\": \"overall\",\n      \"properties\": {\n        \"dtype\": \"number\",\n        \"std\": 0.9968451383820023,\n        \"min\": 1.0,\n        \"max\": 5.0,\n        \"num_unique_values\": 5,\n        \"samples\": [\n          5.0\n        ],\n        \"semantic_type\": \"\",\n        \"description\": \"\"\n      }\n    },\n    {\n      \"column\": \"summary\",\n      \"properties\": {\n        \"dtype\": \"string\",\n        \"num_unique_values\": 3885,\n        \"samples\": [\n          \"NICE!!!\"\n        ],\n        \"semantic_type\": \"\",\n        \"description\": \"\"\n      }\n    },\n    {\n      \"column\": \"unixReviewTime\",\n      \"properties\": {\n        \"dtype\": \"number\",\n        \"std\": 15818574,\n        \"min\": 1339200000,\n        \"max\": 1406073600,\n        \"num_unique_values\": 690,\n        \"samples\": [\n          1386028800\n        ],\n        \"semantic_type\": \"\",\n        \"description\": \"\"\n      }\n    },\n    {\n      \"column\": \"reviewTime\",\n      \"properties\": {\n        \"dtype\": \"object\",\n        \"num_unique_values\": 690,\n        \"samples\": [\n          \"2013-03-12\"\n        ],\n        \"semantic_type\": \"\",\n        \"description\": \"\"\n      }\n    },\n    {\n      \"column\": \"day_diff\",\n      \"properties\": {\n        \"dtype\": \"number\",\n        \"std\": 209,\n        \"min\": 1,\n        \"max\": 1064,\n        \"num_unique_values\": 690,\n        \"samples\": [\n          636\n        ],\n        \"semantic_type\": \"\",\n        \"description\": \"\"\n      }\n    },\n    {\n      \"column\": \"helpful_yes\",\n      \"properties\": {\n        \"dtype\": \"number\",\n        \"std\": 41,\n        \"min\": 0,\n        \"max\": 1952,\n        \"num_unique_values\": 23,\n        \"samples\": [\n          1428\n        ],\n        \"semantic_type\": \"\",\n        \"description\": \"\"\n      }\n    },\n    {\n      \"column\": \"total_vote\",\n      \"properties\": {\n        \"dtype\": \"number\",\n        \"std\": 44,\n        \"min\": 0,\n        \"max\": 2020,\n        \"num_unique_values\": 26,\n        \"samples\": [\n          495\n        ],\n        \"semantic_type\": \"\",\n        \"description\": \"\"\n      }\n    }\n  ]\n}"
            }
          },
          "metadata": {},
          "execution_count": 5
        }
      ]
    },
    {
      "cell_type": "markdown",
      "id": "2e62da97",
      "metadata": {
        "id": "2e62da97"
      },
      "source": [
        "### 3. Exploratory Data Analysis (EDA)"
      ]
    },
    {
      "cell_type": "code",
      "execution_count": null,
      "id": "b26855f6",
      "metadata": {
        "colab": {
          "base_uri": "https://localhost:8080/",
          "height": 576
        },
        "id": "b26855f6",
        "outputId": "8bfcffe0-e820-4b5c-8980-37adfed6875e"
      },
      "outputs": [
        {
          "output_type": "stream",
          "name": "stdout",
          "text": [
            "reviewerName    0.000203\n",
            "reviewText      0.000203\n",
            "asin            0.000000\n",
            "reviewerID      0.000000\n",
            "helpful         0.000000\n",
            "dtype: float64\n"
          ]
        },
        {
          "output_type": "display_data",
          "data": {
            "text/plain": [
              "<Figure size 640x480 with 1 Axes>"
            ],
            "image/png": "[encoded data removed]"
          },
          "metadata": {}
        }
      ],
      "source": []
    },
    {
      "cell_type": "markdown",
      "id": "db24870b",
      "metadata": {
        "id": "db24870b"
      },
      "source": [
        "### 4. Limpieza & Feature Engineering"
      ]
    },
    {
      "cell_type": "code",
      "source": [
        "import requests\n",
        "import json"
      ],
      "metadata": {
        "id": "dxU_bFcX0ghQ"
      },
      "id": "dxU_bFcX0ghQ",
      "execution_count": 8,
      "outputs": []
    },
    {
      "cell_type": "code",
      "source": [
        "API_KEY = \"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\""
      ],
      "metadata": {
        "id": "ihQNGnlW0kBX"
      },
      "id": "ihQNGnlW0kBX",
      "execution_count": 9,
      "outputs": []
    },
    {
      "cell_type": "code",
      "source": [
        "def call_llm(query):\n",
        "  response = requests.post(\n",
        "    url=\"https://openrouter.ai/api/v1/chat/completions\",\n",
        "    headers={\n",
        "      \"Authorization\": f\"Bearer {API_KEY}\",\n",
        "      \"Content-Type\": \"application/json\",\n",
        "    },\n",
        "    data=json.dumps({\n",
        "      \"model\": \"deepseek/deepseek-r1-0528:free\",\n",
        "      \"messages\": [\n",
        "        {\n",
        "          \"role\": \"user\",\n",
        "          \"content\": query\n",
        "        }\n",
        "      ],\n",
        "\n",
        "    })\n",
        "  )\n",
        "  response_data = json.loads(response.content.decode('utf-8'))\n",
        "\n",
        "  # Extract the content\n",
        "  content = response_data['choices'][0]['message']['content']\n",
        "  return content"
      ],
      "metadata": {
        "id": "yk2xzmN20mvx"
      },
      "id": "yk2xzmN20mvx",
      "execution_count": 10,
      "outputs": []
    },
    {
      "cell_type": "markdown",
      "source": [
        "### 4.1 Cree un revie_datetime usando unixReviewTime y la funcion pd.to_datetime"
      ],
      "metadata": {
        "id": "263RZ7LVppCJ"
      },
      "id": "263RZ7LVppCJ"
    },
    {
      "cell_type": "code",
      "source": [
        "import pandas as pd\n",
        "df['review_datetime'] = pd.to_datetime(df['unixReviewTime'], unit='s')\n",
        "print(df[['unixReviewTime', 'review_datetime']].head())\n"
      ],
      "metadata": {
        "colab": {
          "base_uri": "https://localhost:8080/"
        },
        "id": "LcUE-kZw0tF6",
        "outputId": "04f6f371-8228-4672-cd27-71065d61b048"
      },
      "id": "LcUE-kZw0tF6",
      "execution_count": 16,
      "outputs": [
        {
          "output_type": "stream",
          "name": "stdout",
          "text": [
            "   unixReviewTime review_datetime\n",
            "0      1406073600      2014-07-23\n",
            "1      1382659200      2013-10-25\n",
            "2      1356220800      2012-12-23\n",
            "3      1384992000      2013-11-21\n",
            "4      1373673600      2013-07-13\n"
          ]
        }
      ]
    },
    {
      "cell_type": "markdown",
      "source": [
        "### 4.2 Cree una columna positive que sea igual a 1 cuando overall sea mayor o igual  a 4."
      ],
      "metadata": {
        "id": "vghJGFePp1L6"
      },
      "id": "vghJGFePp1L6"
    },
    {
      "cell_type": "code",
      "source": [
        "df['positive'] = (df['overall'] >= 4).astype(int)\n",
        "print(df[['overall', 'positive']].head())\n"
      ],
      "metadata": {
        "colab": {
          "base_uri": "https://localhost:8080/"
        },
        "id": "fhCExhrz1A6J",
        "outputId": "2aa42591-3d85-4ba0-c08e-1b0b8d3c1313"
      },
      "id": "fhCExhrz1A6J",
      "execution_count": 18,
      "outputs": [
        {
          "output_type": "stream",
          "name": "stdout",
          "text": [
            "   overall  positive\n",
            "0      4.0         1\n",
            "1      5.0         1\n",
            "2      4.0         1\n",
            "3      5.0         1\n",
            "4      5.0         1\n"
          ]
        }
      ]
    },
    {
      "cell_type": "markdown",
      "source": [
        "### 4.3 Cree una columna text que sea la union de summary y review text: text_cols['summary'] + '. ' + text_cols['reviewText']).str.strip()"
      ],
      "metadata": {
        "id": "XitrTtwNqugO"
      },
      "id": "XitrTtwNqugO"
    },
    {
      "cell_type": "code",
      "source": [
        "text_cols = df[['summary', 'reviewText']].fillna('')\n",
        "df['text'] = (text_cols['summary'] + '. ' + text_cols['reviewText']).str.strip()\n",
        "print(df[['summary', 'reviewText', 'text']].head())"
      ],
      "metadata": {
        "colab": {
          "base_uri": "https://localhost:8080/"
        },
        "id": "-xdF9C6k1yG0",
        "outputId": "913b5e44-bb57-4778-da50-03c98042dd4e"
      },
      "id": "-xdF9C6k1yG0",
      "execution_count": 20,
      "outputs": [
        {
          "output_type": "stream",
          "name": "stdout",
          "text": [
            "                                  summary  \\\n",
            "0                              Four Stars   \n",
            "1                           MOAR SPACE!!!   \n",
            "2               nothing to really say....   \n",
            "3  Great buy at this price!!!  *** UPDATE   \n",
            "4                        best deal around   \n",
            "\n",
            "                                          reviewText  \\\n",
            "0                                         No issues.   \n",
            "1  Purchased this for my device, it worked as adv...   \n",
            "2  it works as expected. I should have sprung for...   \n",
            "3  This think has worked out great.Had a diff. br...   \n",
            "4  Bought it with Retail Packaging, arrived legit...   \n",
            "\n",
            "                                                text  \n",
            "0                             Four Stars. No issues.  \n",
            "1  MOAR SPACE!!!. Purchased this for my device, i...  \n",
            "2  nothing to really say..... it works as expecte...  \n",
            "3  Great buy at this price!!!  *** UPDATE. This t...  \n",
            "4  best deal around. Bought it with Retail Packag...  \n"
          ]
        }
      ]
    },
    {
      "cell_type": "markdown",
      "source": [
        "### 4.4 Elimine las columnas que no puede usar en el modleo de clasificacion"
      ],
      "metadata": {
        "id": "VVPUjYq-q_1f"
      },
      "id": "VVPUjYq-q_1f"
    },
    {
      "cell_type": "code",
      "source": [
        "df = df.drop(columns=['reviewerID', 'asin', 'unixReviewTime', 'summary', 'reviewText', 'overall'])\n"
      ],
      "metadata": {
        "id": "ofLT31yd6ms3"
      },
      "id": "ofLT31yd6ms3",
      "execution_count": 23,
      "outputs": []
    },
    {
      "cell_type": "markdown",
      "source": [],
      "metadata": {
        "id": "ecjO0i3irBZN"
      },
      "id": "ecjO0i3irBZN"
    },
    {
      "cell_type": "code",
      "source": [
        "X_train, X_test, y_train, y_test = train_test_split(\n",
        "        df['text'], df['positive'], test_size=0.3, stratify=df['positive'], random_state=42)\n",
        "\n",
        "pipe = Pipeline([\n",
        "    ('tfidf', TfidfVectorizer(max_features=10000)),\n",
        "    ('clf',  LogisticRegression(max_iter=1000, class_weight='balanced', n_jobs=-1, random_state=42))\n",
        "])\n",
        "\n",
        "# pipe.fit(X_train, y_train)"
      ],
      "metadata": {
        "id": "xUpS8Cjbs4YS"
      },
      "id": "xUpS8Cjbs4YS",
      "execution_count": 24,
      "outputs": []
    },
    {
      "cell_type": "markdown",
      "source": [],
      "metadata": {
        "id": "aSnxH3ZqqsVG"
      },
      "id": "aSnxH3ZqqsVG"
    },
    {
      "cell_type": "markdown",
      "id": "e98db953",
      "metadata": {
        "id": "e98db953"
      },
      "source": [
        "### 5. Modelo de Clasificación – Supervisado (25 pts)\n",
        "  * Ralice una regreison logistica y use la columa positive que creoo como target, entregue una matriz de confusion"
      ]
    },
    {
      "cell_type": "code",
      "source": [
        "import matplotlib.pyplot as plt\n",
        "pipe.fit(X_train, y_train)\n",
        "y_pred = pipe.predict(X_test)\n",
        "print(classification_report(y_test, y_pred))\n",
        "ConfusionMatrixDisplay.from_estimator(pipe, X_test, y_test, cmap=plt.cm.Blues)\n",
        "plt.title('Confusion Matrix')\n",
        "plt.show()"
      ],
      "metadata": {
        "colab": {
          "base_uri": "https://localhost:8080/",
          "height": 628
        },
        "id": "mGCJ-60e679E",
        "outputId": "47db1d97-2294-4e38-efea-fd45547e7df6"
      },
      "id": "mGCJ-60e679E",
      "execution_count": 26,
      "outputs": [
        {
          "output_type": "stream",
          "name": "stdout",
          "text": [
            "              precision    recall  f1-score   support\n",
            "\n",
            "           0       0.55      0.78      0.64       140\n",
            "           1       0.98      0.93      0.95      1335\n",
            "\n",
            "    accuracy                           0.92      1475\n",
            "   macro avg       0.76      0.86      0.80      1475\n",
            "weighted avg       0.94      0.92      0.92      1475\n",
            "\n"
          ]
        },
        {
          "output_type": "display_data",
          "data": {
            "text/plain": [
              "<Figure size 640x480 with 2 Axes>"
            ],
            "image/png": "[encoded data removed]"
          },
          "metadata": {}
        }
      ]
    },
    {
      "cell_type": "markdown",
      "id": "a689272e",
      "metadata": {
        "id": "a689272e"
      },
      "source": [
        "### 6. Clustering K‑means – No Supervisado (20 pts)\n",
        "Haga un modelo para agrupasr los comentarios: vectorizer = TfidfVectorizer(max_features=10000)\n",
        "X_vec = vectorizer.fit_transform(df['text'])\n",
        "\n",
        "y cre una variable que se llame clsuter"
      ]
    },
    {
      "cell_type": "code",
      "source": [
        "vectorizer = TfidfVectorizer(max_features=10000)\n",
        "X_vec = vectorizer.fit_transform(df['text'])\n",
        "n_clusters = 3\n",
        "kmeans = KMeans(n_clusters=n_clusters, random_state=42, n_init=10)\n",
        "cluster = kmeans.fit_predict(X_vec)\n",
        "df['cluster'] = cluster\n",
        "print(df[['text', 'cluster']].head())"
      ],
      "metadata": {
        "colab": {
          "base_uri": "https://localhost:8080/"
        },
        "id": "-7S2zT9d7guz",
        "outputId": "d6cbcf3a-1953-48fe-c643-81b23eefbc0f"
      },
      "id": "-7S2zT9d7guz",
      "execution_count": 28,
      "outputs": [
        {
          "output_type": "stream",
          "name": "stdout",
          "text": [
            "                                                text  cluster\n",
            "0                             Four Stars. No issues.        0\n",
            "1  MOAR SPACE!!!. Purchased this for my device, i...        0\n",
            "2  nothing to really say..... it works as expecte...        0\n",
            "3  Great buy at this price!!!  *** UPDATE. This t...        0\n",
            "4  best deal around. Bought it with Retail Packag...        0\n"
          ]
        }
      ]
    },
    {
      "cell_type": "markdown",
      "id": "0e817a5b",
      "metadata": {
        "id": "0e817a5b"
      },
      "source": [
        "#### Perfil de clusters: Entregue una descriptiva de que contenia cada clster en termino de las otras variables"
      ]
    },
    {
      "cell_type": "code",
      "source": [
        "print(\"🔹 Tamaño de cada clúster:\")\n",
        "print(df['cluster'].value_counts())\n",
        "\n",
        "print(\"\\n🔹 Porcentaje de reseñas positivas por clúster:\")\n",
        "print(df.groupby('cluster')['positive'].mean())\n",
        "\n",
        "df['review_year'] = df['review_datetime'].dt.year\n",
        "print(\"\\n🔹 Estadísticas de año de reseña por clúster:\")\n",
        "print(df.groupby('cluster')['review_year'].describe())\n",
        "\n",
        "print(\"\\n🔹 Ejemplo de texto por clúster:\")\n",
        "for i in sorted(df['cluster'].unique()):\n",
        "    ejemplo = df[df['cluster'] == i]['text'].sample(1).values[0]\n",
        "    print(f\"\\n🟦 Cluster {i}:\\n{ejemplo}\")\n"
      ],
      "metadata": {
        "colab": {
          "base_uri": "https://localhost:8080/"
        },
        "id": "Pvtf9pvG8S87",
        "outputId": "30d1305e-b753-487b-b739-96b2cf88717c"
      },
      "id": "Pvtf9pvG8S87",
      "execution_count": 34,
      "outputs": [
        {
          "output_type": "stream",
          "name": "stdout",
          "text": [
            "🔹 Tamaño de cada clúster:\n",
            "cluster\n",
            "0    2146\n",
            "1    1411\n",
            "2    1358\n",
            "Name: count, dtype: int64\n",
            "\n",
            "🔹 Porcentaje de reseñas positivas por clúster:\n",
            "cluster\n",
            "0    0.941286\n",
            "1    0.775337\n",
            "2    0.983063\n",
            "Name: positive, dtype: float64\n",
            "\n",
            "🔹 Estadísticas de año de reseña por clúster:\n",
            "          count         mean       std     min     25%     50%     75%     max\n",
            "cluster                                                                       \n",
            "0        2146.0  2013.317335  0.607987  2012.0  2013.0  2013.0  2014.0  2014.0\n",
            "1        1411.0  2013.107725  0.652125  2012.0  2013.0  2013.0  2014.0  2014.0\n",
            "2        1358.0  2013.296024  0.602744  2012.0  2013.0  2013.0  2014.0  2014.0\n",
            "\n",
            "🔹 Ejemplo de texto por clúster:\n",
            "\n",
            "🟦 Cluster 0:\n",
            "Best quality of SD cards! Every techie I know always recommend Sandisk!. True to its name! Sandisk is the best! I am only using this for my smartphone so I guess it's overkill! Many said this type of micro SD card is meant for DSLR's. I'm going for quality and something that would last a long time. That's why I went for this. Highly recommended!\n",
            "\n",
            "🟦 Cluster 1:\n",
            "Awesome.. I gave it five stars, simply because I am not a tech genius, so I don't know if it is the best or not - but jeez, this thing is fast and it does everything that I wanted it to do. I have no complaints so far. I'm a very happy customer and I would definitely recommend this product to someone who is looking at buying an affordable micro SD card.\n",
            "\n",
            "🟦 Cluster 2:\n",
            "Works great in my Samsung camera. I purchased this to use in my Samsung camera and it works great. I take picture and videos with the camera with no issues.\n"
          ]
        }
      ]
    },
    {
      "cell_type": "markdown",
      "id": "d4d51cd5",
      "metadata": {
        "id": "d4d51cd5"
      },
      "source": [
        "### 7. Insight & Recomendaciones (15 pts)"
      ]
    },
    {
      "cell_type": "markdown",
      "id": "ccca05a5",
      "metadata": {
        "id": "ccca05a5"
      },
      "source": [
        "*Escribe aquí tu análisis de cómo se relacionan los errores del modelo con los clusters y propone 1‑2 acciones de negocio basadas en tus hallazgos.*\n",
        "\n",
        "<!-- TODO -->"
      ]
    },
    {
      "cell_type": "markdown",
      "source": [
        "Si me pongo a mirar la matriz de confusión (la de la sección 5) y luego a esos clústeres (los de la sección 6), he notado unas cositas:\n",
        "\n",
        "Mis errores por grupos (clústeres): Me di cuenta de que no me equivoco parejo. Los errores, o sea, cuando le atino mal (falsos positivos) o cuando se me escapa algo que sí era (falsos negativos), a veces se acumulan en ciertos clústeres. Por ejemplo, si en un clúster hay un montón de reseñas positivas que tienen un lenguaje muy raro o que son ambiguas, ahí me cuesta más adivinar si la reseña es buena o mala. Para entender esto a fondo, tendría que mirar más de cerca cómo se distribuyen mis errores dentro de cada clúster.\n",
        "\n",
        "Qué tienen esos clústeres donde me equivoco:\n",
        "\n",
        "Si en un clúster hay muchos falsos negativos (yo dije que era negativa, pero la reseña era positiva), esto me hace pensar que las reseñas positivas de ese grupo usan un lenguaje que me confunde. Quizás son sarcásticas, o el que escribió no usó las palabras \"felices\" que yo esperaría para una calificación alta.\n",
        "Si, por otro lado, un clúster tiene muchos falsos positivos (yo dije que era positiva, pero la reseña era negativa), puede ser que las reseñas malas de ese grupo usen un lenguaje que yo asocio con cosas buenas. A lo mejor empiezan muy amables y luego ¡pum!, te tiran un madrazo al final.\n",
        "Pero, ¡ojo!, si un clúster lo clasifico bien en general, es señal de que los textos de ese grupo son súper claros. Yo ahí identifico fácil si la reseña es buena o mala.\n",
        "¿Y esto para qué nos sirve en el negocio?\n",
        "\n",
        "Para mejorarme a mí (el modelo): Si veo que hay clústeres donde la embarro mucho, puedo ir y analizar el texto a fondo de esos grupos. Ahí podemos:\n",
        "\n",
        "Ponerle más atención al pre-procesamiento: Es como enseñarme a entender mejor ese lenguaje particular. De pronto, necesito que me expliquen mejor las negaciones o el sarcasmo.\n",
        "Conseguir más datos de los casos difíciles: Si un clúster donde fallo mucho es importante, podríamos buscar más reseñas de ese tipo para que yo aprenda mejor a clasificarlas. Es como darme más ejemplos de la tarea.\n",
        "Poner \"profesores\" especializados: Para los clústeres que de verdad me complican, podríamos entrenar un modelo diferente, o ajustar mis configuraciones para que sea un \"experto\" solo en ese tipo de reseñas.\n",
        "Para acciones directas en el negocio: Los clústeres no solo me sirven para ver dónde me equivoco, sino también para entender a la gente y sus opiniones.\n",
        "\n",
        "Identificar problemas específicos donde me equivoco: Si en un clúster con muchos falsos negativos (reseñas positivas que clasifiqué como negativas) hay un tema que se repite sobre un problema del producto, la empresa ¡puede ir directamente a solucionar ese problema! Si, por otro lado, en un clúster de falsos positivos (reseñas negativas que clasifiqué como positivas) la gente usa un lenguaje engañoso, se podría investigar si hay algún patrón raro en cómo escriben las reseñas.\n",
        "Hacer publicidad o mejoras de producto más inteligentes: Incluso los clústeres donde no me equivoco me dan oro puro. Si un grupo de reseñas súper positivas siempre resalta lo chévere de una característica del producto, ¡eso hay que usarlo en la publicidad! Si un grupo de reseñas negativas se queja de que el producto es difícil de usar, el equipo de producto ya sabe por dónde empezar a mejorar. Y si analizo mis errores dentro de esos mismos clústeres, puedo afinar aún más esas acciones. Por ejemplo, entender por qué algunas reseñas positivas en un clúster generalmente positivo me confundieron, podría revelar detalles importantes para el marketing."
      ],
      "metadata": {
        "id": "-TqLUj57_ocB"
      },
      "id": "-TqLUj57_ocB"
    },
    {
      "cell_type": "markdown",
      "id": "e3023398",
      "metadata": {
        "id": "e3023398"
      },
      "source": [
        "## ✅ 8. Checklist final\n",
        "- [ ] Notebook corre sin errores\n",
        "- [ ] Respuestas teóricas completadas\n",
        "- [ ] Comentarios claros y semillas fijas\n",
        "- [ ] 5 slides creadas y exportadas a PDF\n"
      ]
    }
  ],
  "metadata": {
    "language_info": {
      "name": "python"
    },
    "colab": {
      "provenance": [],
      "include_colab_link": true
    },
    "kernelspec": {
      "name": "python3",
      "display_name": "Python 3"
    }
  },
  "nbformat": 4,
  "nbformat_minor": 5
}