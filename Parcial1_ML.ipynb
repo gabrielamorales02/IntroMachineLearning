{
  "cells": [
    {
      "cell_type": "markdown",
      "metadata": {
        "id": "view-in-github",
        "colab_type": "text"
      },
      "source": [
        "<a href=\"https://colab.research.google.com/github/gabrielamorales02/IntroMachineLearning/blob/main/Parcial1_ML.ipynb\" target=\"_parent\"><img src=\"https://colab.research.google.com/assets/colab-badge.svg\" alt=\"Open In Colab\"/></a>"
      ]
    },
    {
      "cell_type": "markdown",
      "metadata": {
        "id": "dVJ7lHDq2c5r"
      },
      "source": [
        "# Parcial de Regresión Lineal\n",
        "\n",
        "\n",
        "## Preguntas de Negocio\n",
        "1. **Predicción:** Si llega un carro con 92670.5 km, ¿a cuánto debería venderlo según el modelo?\n",
        "2. **Inversión:** Como inversionista, ¿cuáles son los vehículos (según su kilometraje) que podrían generar un margen de ganancia atractivo?\n"
      ]
    },
    {
      "cell_type": "code",
      "execution_count": 16,
      "metadata": {
        "id": "k07tDAto2c5t"
      },
      "outputs": [],
      "source": [
        "# Importar librerías necesarias\n",
        "import pandas as pd\n",
        "import numpy as np\n",
        "\n",
        "from sklearn.model_selection import train_test_split\n",
        "from sklearn.linear_model import LinearRegression\n",
        "from sklearn.metrics import mean_squared_error, mean_absolute_error, r2_score\n",
        "\n",
        "%matplotlib inline"
      ]
    },
    {
      "cell_type": "markdown",
      "metadata": {
        "id": "DSGz8xe32c5u"
      },
      "source": [
        "## 1. Cargar y Preprocesar Datos\n",
        "\n",
        "Se descarga el dataset de vehículos, se descomprime y se carga en un DataFrame. Además, se eliminan los valores faltantes."
      ]
    },
    {
      "cell_type": "code",
      "source": [
        "# Descargar y descomprimir el dataset\n",
        "!wget https://github.com/javierherrera1996/lecture_analytics/raw/main/cars_dataset.zip\n",
        "!unzip -o cars_dataset.zip\n"
      ],
      "metadata": {
        "colab": {
          "base_uri": "https://localhost:8080/"
        },
        "id": "2vtX7uwT20yl",
        "outputId": "6c0f50dc-dc19-4946-8f28-73da950099a6"
      },
      "execution_count": 17,
      "outputs": [
        {
          "output_type": "stream",
          "name": "stdout",
          "text": [
            "--2025-03-12 20:21:34--  https://github.com/javierherrera1996/lecture_analytics/raw/main/cars_dataset.zip\n",
            "Resolving github.com (github.com)... 140.82.113.3\n",
            "Connecting to github.com (github.com)|140.82.113.3|:443... connected.\n",
            "HTTP request sent, awaiting response... 302 Found\n",
            "Location: https://raw.githubusercontent.com/javierherrera1996/lecture_analytics/main/cars_dataset.zip [following]\n",
            "--2025-03-12 20:21:34--  https://raw.githubusercontent.com/javierherrera1996/lecture_analytics/main/cars_dataset.zip\n",
            "Resolving raw.githubusercontent.com (raw.githubusercontent.com)... 185.199.108.133, 185.199.110.133, 185.199.111.133, ...\n",
            "Connecting to raw.githubusercontent.com (raw.githubusercontent.com)|185.199.108.133|:443... connected.\n",
            "HTTP request sent, awaiting response... 200 OK\n",
            "Length: 19753181 (19M) [application/zip]\n",
            "Saving to: ‘cars_dataset.zip.4’\n",
            "\n",
            "cars_dataset.zip.4  100%[===================>]  18.84M  76.7MB/s    in 0.2s    \n",
            "\n",
            "2025-03-12 20:21:35 (76.7 MB/s) - ‘cars_dataset.zip.4’ saved [19753181/19753181]\n",
            "\n",
            "Archive:  cars_dataset.zip\n",
            "  inflating: car_prices.csv          \n"
          ]
        }
      ]
    },
    {
      "cell_type": "code",
      "source": [
        "df = pd.read_csv('car_prices.csv')\n",
        "print(df.head())\n",
        "df = df.dropna()\n",
        "print(df.isnull().sum())"
      ],
      "metadata": {
        "colab": {
          "base_uri": "https://localhost:8080/"
        },
        "id": "guhwpf73BjtE",
        "outputId": "a67b740d-c1f0-48c9-cda2-483d8136805c"
      },
      "execution_count": 20,
      "outputs": [
        {
          "output_type": "stream",
          "name": "stdout",
          "text": [
            "   year   make                model        trim   body transmission  \\\n",
            "0  2015    Kia              Sorento          LX    SUV    automatic   \n",
            "1  2015    Kia              Sorento          LX    SUV    automatic   \n",
            "2  2014    BMW             3 Series  328i SULEV  Sedan    automatic   \n",
            "3  2015  Volvo                  S60          T5  Sedan    automatic   \n",
            "4  2014    BMW  6 Series Gran Coupe        650i  Sedan    automatic   \n",
            "\n",
            "                 vin state  condition  odometer  color interior  \\\n",
            "0  5xyktca69fg566472    ca        5.0   16639.0  white    black   \n",
            "1  5xyktca69fg561319    ca        5.0    9393.0  white    beige   \n",
            "2  wba3c1c51ek116351    ca       45.0    1331.0   gray    black   \n",
            "3  yv1612tb4f1310987    ca       41.0   14282.0  white    black   \n",
            "4  wba6b2c57ed129731    ca       43.0    2641.0   gray    black   \n",
            "\n",
            "                                   seller      mmr  sellingprice  \\\n",
            "0                 kia motors america  inc  20500.0       21500.0   \n",
            "1                 kia motors america  inc  20800.0       21500.0   \n",
            "2  financial services remarketing (lease)  31900.0       30000.0   \n",
            "3                 volvo na rep/world omni  27500.0       27750.0   \n",
            "4  financial services remarketing (lease)  66000.0       67000.0   \n",
            "\n",
            "                                  saledate  \n",
            "0  Tue Dec 16 2014 12:30:00 GMT-0800 (PST)  \n",
            "1  Tue Dec 16 2014 12:30:00 GMT-0800 (PST)  \n",
            "2  Thu Jan 15 2015 04:30:00 GMT-0800 (PST)  \n",
            "3  Thu Jan 29 2015 04:30:00 GMT-0800 (PST)  \n",
            "4  Thu Dec 18 2014 12:30:00 GMT-0800 (PST)  \n",
            "year            0\n",
            "make            0\n",
            "model           0\n",
            "trim            0\n",
            "body            0\n",
            "transmission    0\n",
            "vin             0\n",
            "state           0\n",
            "condition       0\n",
            "odometer        0\n",
            "color           0\n",
            "interior        0\n",
            "seller          0\n",
            "mmr             0\n",
            "sellingprice    0\n",
            "saledate        0\n",
            "dtype: int64\n"
          ]
        }
      ]
    },
    {
      "cell_type": "markdown",
      "metadata": {
        "id": "Cjs4U9HU2c5w"
      },
      "source": [
        "## 2. Análisis Exploratorio de Datos (EDA)\n",
        "\n",
        "Se generan estadísticas descriptivas para analizar las variables numéricas y entender la distribución de los datos."
      ]
    },
    {
      "cell_type": "code",
      "source": [
        "print(df.describe())"
      ],
      "metadata": {
        "colab": {
          "base_uri": "https://localhost:8080/"
        },
        "id": "aqni7MZXB0BE",
        "outputId": "98973469-9840-47ae-b69f-5785d403c8c0"
      },
      "execution_count": 21,
      "outputs": [
        {
          "output_type": "stream",
          "name": "stdout",
          "text": [
            "                year      condition       odometer            mmr  \\\n",
            "count  472325.000000  472325.000000  472325.000000  472325.000000   \n",
            "mean     2010.210980      30.774177   66701.732040   13837.058964   \n",
            "std         3.822151      13.286866   51939.586894    9532.229273   \n",
            "min      1990.000000       1.000000       1.000000      25.000000   \n",
            "25%      2008.000000      24.000000   28137.000000    7425.000000   \n",
            "50%      2012.000000      35.000000   51085.000000   12300.000000   \n",
            "75%      2013.000000      41.000000   96590.000000   18300.000000   \n",
            "max      2015.000000      49.000000  999999.000000  182000.000000   \n",
            "\n",
            "        sellingprice  \n",
            "count  472325.000000  \n",
            "mean    13690.512058  \n",
            "std      9613.033738  \n",
            "min         1.000000  \n",
            "25%      7200.000000  \n",
            "50%     12200.000000  \n",
            "75%     18200.000000  \n",
            "max    230000.000000  \n"
          ]
        }
      ]
    },
    {
      "cell_type": "markdown",
      "metadata": {
        "id": "20HEM8yr2c5w"
      },
      "source": [
        "## 3. Modelo de Regresión Lineal\n",
        "\n",
        "Se utiliza la variable 'odometer' para predecir 'sellingprice'. Se dividen los datos en conjunto de entrenamiento y prueba (80%-20%)."
      ]
    },
    {
      "cell_type": "code",
      "source": [
        "df.shape"
      ],
      "metadata": {
        "colab": {
          "base_uri": "https://localhost:8080/"
        },
        "id": "8ZPN2D7PCvJs",
        "outputId": "e87b6212-9775-42d8-8c71-e8deba09c564"
      },
      "execution_count": 26,
      "outputs": [
        {
          "output_type": "execute_result",
          "data": {
            "text/plain": [
              "(472325, 16)"
            ]
          },
          "metadata": {},
          "execution_count": 26
        }
      ]
    },
    {
      "cell_type": "code",
      "source": [
        "X_train, X_test, y_train, y_test = train_test_split(\n",
        "                                                  X,\n",
        "                                                  y,\n",
        "                                                  test_size=0.2,\n",
        "                                                  random_state=42\n",
        "                                              )\n",
        "\n",
        "print(f\"Entrenamiento: {X_train.shape[0]} muestras\")\n",
        "print(f\"Prueba: {X_test.shape[0]} muestras\")"
      ],
      "metadata": {
        "colab": {
          "base_uri": "https://localhost:8080/"
        },
        "id": "g85q32U5C1Bs",
        "outputId": "8b078356-1f2a-4947-dc82-750625337d14"
      },
      "execution_count": 32,
      "outputs": [
        {
          "output_type": "stream",
          "name": "stdout",
          "text": [
            "Entrenamiento: 377860 muestras\n",
            "Prueba: 94465 muestras\n"
          ]
        }
      ]
    },
    {
      "cell_type": "markdown",
      "metadata": {
        "id": "zN0tFURm2c5x"
      },
      "source": [
        "## 4. Evaluación del Modelo\n",
        "\n",
        "Se evalúa el desempeño del modelo en el conjunto de prueba utilizando métricas como MSE, MAE y R²."
      ]
    },
    {
      "cell_type": "code",
      "execution_count": 31,
      "metadata": {
        "id": "wL2xptp_2c5x",
        "colab": {
          "base_uri": "https://localhost:8080/"
        },
        "outputId": "59bebc4c-e0ea-4920-beea-1b0e07ecc435"
      },
      "outputs": [
        {
          "output_type": "stream",
          "name": "stdout",
          "text": [
            "Conjunto de Entrenamiento:\n",
            "MSE: 61907392.09\n",
            "R^2: 0.33\n",
            "\n",
            "Conjunto de Prueba:\n",
            "MSE: 60380220.40\n",
            "R^2: 0.34\n"
          ]
        }
      ],
      "source": [
        "\n",
        "y_pred_train = model.predict(X_train)\n",
        "y_pred_test = model.predict(X_test)\n",
        "\n",
        "\n",
        "mse_train = mean_squared_error(y_train, y_pred_train)\n",
        "r2_train = r2_score(y_train, y_pred_train)\n",
        "\n",
        "mse_test = mean_squared_error(y_test, y_pred_test)\n",
        "r2_test = r2_score(y_test, y_pred_test)\n",
        "\n",
        "print(\"Conjunto de Entrenamiento:\")\n",
        "print(f\"MSE: {mse_train:.2f}\")\n",
        "print(f\"R^2: {r2_train:.2f}\")\n",
        "print(\"\\nConjunto de Prueba:\")\n",
        "print(f\"MSE: {mse_test:.2f}\")\n",
        "print(f\"R^2: {r2_test:.2f}\")"
      ]
    },
    {
      "cell_type": "markdown",
      "metadata": {
        "id": "27nhHQdY2c5x"
      },
      "source": [
        "## 5. Predicción y Respuestas a Preguntas de Negocio\n",
        "\n",
        "### Pregunta 1: Precio Estimado para un Carro con 92670.5 km\n",
        "\n",
        "Utilizamos el modelo para predecir el precio de venta de un carro con 92670.5 km."
      ]
    },
    {
      "cell_type": "code",
      "execution_count": null,
      "metadata": {
        "id": "dMhv6HZN2c5x"
      },
      "outputs": [],
      "source": [
        "# Predicción para un carro con 92670.5 km\n",
        "#nuevo_odometro = np.array([[92670.5]])\n"
      ]
    },
    {
      "cell_type": "code",
      "source": [
        "nuevo_odometro = np.array([[92670.5]])\n",
        "precio_estimado = model.predict(nuevo_odometro)\n",
        "print(f\"Precio estimado para un carro con 92670.5 km: {precio_estimado[0]:.2f}\")\n",
        "warnings.filterwarnings(\"ignore\", message=\"X does not have valid feature names\")"
      ],
      "metadata": {
        "colab": {
          "base_uri": "https://localhost:8080/"
        },
        "id": "lsQSOWaFFbZs",
        "outputId": "6fd459e9-7304-496c-cbad-ac6a0be42162"
      },
      "execution_count": 45,
      "outputs": [
        {
          "output_type": "stream",
          "name": "stdout",
          "text": [
            "Precio estimado para un carro con 92670.5 km: 10915.35\n"
          ]
        }
      ]
    },
    {
      "cell_type": "markdown",
      "metadata": {
        "id": "Fr74B3XP2c5x"
      },
      "source": [
        "## 6. Análisis Crítico de Resultados (10 Puntos Cerrados)\n",
        "\n",
        "Responde a las siguientes preguntas de manera cerrada (Sí/No). Estas preguntas facilitan una calificación rápida:\n",
        "\n",
        "1. ¿El coeficiente negativo (-0.107) indica que a mayor kilometraje, menor precio de venta? (Sí/No)\n",
        "2. ¿Un R² de 0.336 sugiere que el modelo explica más del 50% de la variabilidad en el precio de venta? (Sí/No)\n",
        "3. ¿El valor elevado del MSE indica que existen errores importantes en las predicciones? (Sí/No)\n",
        "4. ¿El MAE obtenido es suficientemente bajo para garantizar predicciones precisas en todos los casos? (Sí/No)\n",
        "5. ¿La eliminación de filas con valores faltantes puede reducir la robustez del modelo? (Sí/No)\n",
        "6. ¿Incluir variables adicionales como año, condición y marca podría mejorar la capacidad predictiva del modelo? (Sí/No)\n",
        "7. ¿La relación negativa entre kilometraje y precio es consistente con el comportamiento esperado en el mercado de vehículos? (Sí/No)\n",
        "8. ¿Dividir los datos en 80% entrenamiento y 20% prueba es una práctica recomendada para evaluar el modelo? (Sí/No)\n"
      ]
    },
    {
      "cell_type": "markdown",
      "source": [
        "1. Si\n",
        "2. No\n",
        "3. Si\n",
        "4. No\n",
        "5. Si\n",
        "6. Si\n",
        "7. Si\n",
        "8. Si\n",
        "\n"
      ],
      "metadata": {
        "id": "MPNiAgg1FpCs"
      }
    }
  ],
  "metadata": {
    "colab": {
      "provenance": [],
      "include_colab_link": true
    },
    "kernelspec": {
      "display_name": "Python 3",
      "language": "python",
      "name": "python3"
    },
    "language_info": {
      "name": "python"
    }
  },
  "nbformat": 4,
  "nbformat_minor": 0
}