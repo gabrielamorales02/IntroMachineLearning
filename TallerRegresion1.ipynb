{
  "cells": [
    {
      "cell_type": "markdown",
      "metadata": {
        "id": "view-in-github",
        "colab_type": "text"
      },
      "source": [
        "<a href=\"https://colab.research.google.com/github/gabrielamorales02/IntroMachineLearning/blob/main/TallerRegresion1.ipynb\" target=\"_parent\"><img src=\"https://colab.research.google.com/assets/colab-badge.svg\" alt=\"Open In Colab\"/></a>"
      ]
    },
    {
      "cell_type": "markdown",
      "id": "cecf7a01",
      "metadata": {
        "id": "cecf7a01"
      },
      "source": [
        "# Análisis Completo de Regresión Lineal\n",
        "\n",
        "Este notebook muestra paso a paso cómo realizar un análisis de **Regresión Lineal** empleando un conjunto de datos que contiene:\n",
        "- **valuationdate**: fecha de valoración (opcional para el modelo)\n",
        "- **revenues**: ingresos\n",
        "- **ebit**: utilidad antes de intereses e impuestos\n",
        "- **depreciation**: depreciación\n",
        "- **capex**: gastos de capital\n",
        "- **ncwc**: cambio en capital de trabajo neto\n",
        "- **bv**: (posiblemente) valor en libros\n",
        "- **y**: variable objetivo que deseamos predecir (por ejemplo, un valor financiero o de valoración)\n",
        "\n",
        "Iremos desde la **carga** y **exploración** del dataset hasta la **interpretación** de coeficientes y la **evaluación** de métricas importantes."
      ]
    },
    {
      "cell_type": "code",
      "source": [
        "!wget https://github.com/javierherrera1996/IntroMachineLearning/raw/refs/heads/main/PrimerCorte/RegresionLineal/enterprise.csv"
      ],
      "metadata": {
        "colab": {
          "base_uri": "https://localhost:8080/"
        },
        "id": "LCuTCvghz5bk",
        "outputId": "1b36a763-461e-4964-be77-b5568f662cfa"
      },
      "id": "LCuTCvghz5bk",
      "execution_count": 2,
      "outputs": [
        {
          "output_type": "stream",
          "name": "stdout",
          "text": [
            "--2025-03-05 21:48:07--  https://github.com/javierherrera1996/IntroMachineLearning/raw/refs/heads/main/PrimerCorte/RegresionLineal/enterprise.csv\n",
            "Resolving github.com (github.com)... 20.27.177.113\n",
            "Connecting to github.com (github.com)|20.27.177.113|:443... connected.\n",
            "HTTP request sent, awaiting response... 302 Found\n",
            "Location: https://raw.githubusercontent.com/javierherrera1996/IntroMachineLearning/refs/heads/main/PrimerCorte/RegresionLineal/enterprise.csv [following]\n",
            "--2025-03-05 21:48:08--  https://raw.githubusercontent.com/javierherrera1996/IntroMachineLearning/refs/heads/main/PrimerCorte/RegresionLineal/enterprise.csv\n",
            "Resolving raw.githubusercontent.com (raw.githubusercontent.com)... 185.199.109.133, 185.199.110.133, 185.199.111.133, ...\n",
            "Connecting to raw.githubusercontent.com (raw.githubusercontent.com)|185.199.109.133|:443... connected.\n",
            "HTTP request sent, awaiting response... 200 OK\n",
            "Length: 82415 (80K) [text/plain]\n",
            "Saving to: ‘enterprise.csv.1’\n",
            "\n",
            "enterprise.csv.1    100%[===================>]  80.48K  --.-KB/s    in 0.09s   \n",
            "\n",
            "2025-03-05 21:48:08 (933 KB/s) - ‘enterprise.csv.1’ saved [82415/82415]\n",
            "\n"
          ]
        }
      ]
    },
    {
      "cell_type": "markdown",
      "id": "7ceab41b",
      "metadata": {
        "id": "7ceab41b"
      },
      "source": [
        "## Paso 0: Importar librerías y configuración"
      ]
    },
    {
      "cell_type": "code",
      "execution_count": 3,
      "id": "99b373c1",
      "metadata": {
        "id": "99b373c1"
      },
      "outputs": [],
      "source": [
        "import numpy as np\n",
        "import pandas as pd\n",
        "import matplotlib.pyplot as plt\n",
        "import seaborn as sns\n",
        "\n",
        "from sklearn.linear_model import LinearRegression\n",
        "from sklearn.model_selection import train_test_split\n",
        "from sklearn.metrics import mean_squared_error, r2_score\n",
        "\n",
        "sns.set(style=\"whitegrid\")\n",
        "plt.rcParams[\"figure.figsize\"] = (8, 6)"
      ]
    },
    {
      "cell_type": "markdown",
      "id": "871d0c89",
      "metadata": {
        "id": "871d0c89"
      },
      "source": [
        "## Paso 1: Carga y Exploración de Datos (EDA)\n",
        "\n",
        "En este primer bloque, cargaremos nuestro dataset y realizaremos un Análisis Exploratorio básico."
      ]
    },
    {
      "cell_type": "code",
      "execution_count": 4,
      "id": "ee5666d8",
      "metadata": {
        "id": "ee5666d8"
      },
      "outputs": [],
      "source": [
        "df = pd.read_csv('enterprise.csv')"
      ]
    },
    {
      "cell_type": "code",
      "source": [
        "print(df.head())"
      ],
      "metadata": {
        "id": "E0bLm7M8Silc",
        "outputId": "74710693-910d-43f8-b768-56119def9932",
        "colab": {
          "base_uri": "https://localhost:8080/"
        }
      },
      "id": "E0bLm7M8Silc",
      "execution_count": 5,
      "outputs": [
        {
          "output_type": "stream",
          "name": "stdout",
          "text": [
            "  valuationdate    revenues          ebit  depreciation      capex  \\\n",
            "0    30/06/2011  86470.7000  10387.500000      6429.000   3512.000   \n",
            "1    31/12/2010  84754.2000  14031.180800      8658.600  17172.500   \n",
            "2    30/09/2016  15653.4800    221.347452       647.239    749.478   \n",
            "3    30/09/2018  62001.3297   7551.761957      1808.830   2702.850   \n",
            "4    30/09/2014   1242.8300    497.141501       232.027   1552.908   \n",
            "\n",
            "          ncwc         bv             y  \n",
            "0  16848.90000  47945.100   91760.80000  \n",
            "1  12095.10000  66804.400  184461.70000  \n",
            "2   1468.42800  10128.726   23323.68520  \n",
            "3  11873.25464  27144.930  130202.79240  \n",
            "4    149.97100   1463.052   11472.12267  \n"
          ]
        }
      ]
    },
    {
      "cell_type": "code",
      "source": [
        "print(df.describe())"
      ],
      "metadata": {
        "id": "_bpVScOkTEZ8",
        "outputId": "b75064f6-a96a-4604-a52d-7ddeaefcace1",
        "colab": {
          "base_uri": "https://localhost:8080/"
        }
      },
      "id": "_bpVScOkTEZ8",
      "execution_count": 6,
      "outputs": [
        {
          "output_type": "stream",
          "name": "stdout",
          "text": [
            "           revenues           ebit   depreciation          capex  \\\n",
            "count  1.061000e+03    1061.000000    1061.000000    1061.000000   \n",
            "mean   1.632727e+05   24076.406810    8002.050367   10961.602205   \n",
            "std    2.213828e+05   31871.076559   13898.135849   20250.735197   \n",
            "min    8.560000e+01  -29982.979880      -5.690000    -694.661000   \n",
            "25%    4.265958e+04    4522.900000     999.340000    1666.600000   \n",
            "50%    1.082011e+05   12224.611950    3446.250000    4949.447000   \n",
            "75%    1.862485e+05   32228.941870    8361.220000   11201.479000   \n",
            "max    2.586712e+06  289541.300000  128993.500000  205525.700000   \n",
            "\n",
            "                ncwc            bv             y  \n",
            "count    1061.000000  1.061000e+03  1.061000e+03  \n",
            "mean    22324.130946  8.057162e+04  3.292238e+05  \n",
            "std     54636.421540  1.043500e+05  4.056701e+05  \n",
            "min   -118819.899000 -1.503965e+04  3.692000e+02  \n",
            "25%      3115.247000  1.689500e+04  6.981010e+04  \n",
            "50%     10736.200000  4.172290e+04  1.850416e+05  \n",
            "75%     23454.185000  1.147563e+05  4.258273e+05  \n",
            "max    623588.700000  1.009026e+06  4.175892e+06  \n"
          ]
        }
      ]
    },
    {
      "cell_type": "markdown",
      "id": "a80a3bc6",
      "metadata": {
        "id": "a80a3bc6"
      },
      "source": [
        "### Estadísticas Descriptivas y Distribuciones"
      ]
    },
    {
      "cell_type": "code",
      "source": [
        "import matplotlib.pyplot as plt\n",
        "plt.figure(figsize=(10, 6))\n",
        "sns.histplot(df['y'], kde=True)\n",
        "plt.title('Distribución de la variable objetivo (y)')\n",
        "plt.xlabel('y')\n",
        "plt.ylabel('Frecuencia')\n",
        "plt.show()"
      ],
      "metadata": {
        "id": "tpnmU5_jTT8k",
        "outputId": "bee567f1-92ad-4d3f-f48a-a9fb69b45ed0",
        "colab": {
          "base_uri": "https://localhost:8080/",
          "height": 573
        }
      },
      "id": "tpnmU5_jTT8k",
      "execution_count": 7,
      "outputs": [
        {
          "output_type": "display_data",
          "data": {
            "text/plain": [
              "<Figure size 1000x600 with 1 Axes>"
            ],
            "image/png": "[encoded data removed]"
          },
          "metadata": {}
        }
      ]
    },
    {
      "cell_type": "markdown",
      "id": "9651d690",
      "metadata": {
        "id": "9651d690"
      },
      "source": [
        "### Preguntas de Reflexión (Exploración)\n",
        "1. ¿Qué tipo de problema estás intentando resolver al usar `y` como variable objetivo?\n",
        "2. ¿Notas valores atípicos (outliers) en alguna de las variables? ¿Cómo podría afectar a la regresión lineal?\n",
        "3. ¿Crees que la columna `valuationdate` podría aportar información para predecir `y`, o la excluirías del análisis?\n",
        "\n",
        "_Responde con tu razonamiento propio aquí._"
      ]
    },
    {
      "cell_type": "markdown",
      "source": [
        "1. Es probable que se trate de un problema de valoración empresarial posiblemente el valor de mercado, el valor de la empresa, en función de sus indicadores financieros.\n",
        "\n",
        "2.  Los valores atípicos pueden afectar la regresión lineal de varias maneras: Sesgo en los coeficientes: los outliers pueden influir significativamente en la estimación de los coeficientes de la regresión, generando un modelo menos preciso para la mayoría de los datos. Mayor error cuadrático medio (MSE):  Los outliers aumentan el MSE,  una métrica que mide la diferencia entre los valores predichos y reales. Menor R^2:  Una mayor presencia de outliers puede reducir el R^2, que mide la bondad de ajuste del modelo.\n",
        "\n",
        "3. La columna valuationdate podría aportar información relevante, especialmente si el valor de la empresa está sujeto a variaciones a lo largo del tiempo.\n",
        "Si se incluyen datos a lo largo de varios períodos, es posible que exista una tendencia o estacionalidad relacionada con la fecha de valoración.\n"
      ],
      "metadata": {
        "id": "7XRoPSwyXdFa"
      },
      "id": "7XRoPSwyXdFa"
    },
    {
      "cell_type": "markdown",
      "id": "32046c34",
      "metadata": {
        "id": "32046c34"
      },
      "source": [
        "## Paso 2: Preparación y Limpieza de Datos\n",
        "\n",
        "1. **Manejo de valores faltantes**.\n",
        "2. **Posible eliminación** o **imputación** de outliers.\n",
        "3. **Transformaciones** (escalado, log, etc.) si son necesarias."
      ]
    },
    {
      "cell_type": "markdown",
      "id": "2f0ef045",
      "metadata": {
        "id": "2f0ef045"
      },
      "source": [
        "### Pregunta de Reflexión (Limpieza)\n",
        "¿Por qué es relevante tratar valores faltantes y/o outliers **antes** de entrenar el modelo de regresión lineal?\n",
        "\n",
        "_Responde con tu razonamiento aquí._"
      ]
    },
    {
      "cell_type": "markdown",
      "source": [
        " la limpieza de datos es muy importante en la preparación de datos para modelos de regresión lineal. Manejar los valores faltantes y los outliers adecuadamente permite generar modelos más robustos, precisos y con una interpretación más confiable.\n"
      ],
      "metadata": {
        "id": "pw7u7u-pZFby"
      },
      "id": "pw7u7u-pZFby"
    },
    {
      "cell_type": "markdown",
      "id": "38c1f6f8",
      "metadata": {
        "id": "38c1f6f8"
      },
      "source": [
        "## Paso 4: Selección de Variables e Implementación del Modelo\n",
        "\n",
        "1. **Seleccionar** cuáles columnas usarás como variables explicativas (features). Puede que uses todas o hagas una selección.\n",
        "2. **Asignar** `X` (features) y `y` (variable objetivo).\n",
        "3. **Dividir** en conjunto de entrenamiento (train) y conjunto de prueba (test)."
      ]
    },
    {
      "cell_type": "code",
      "source": [
        "X = df[['revenues', 'ebit', 'depreciation', 'capex', 'ncwc', 'bv']]\n",
        "y = df['y']\n",
        "\n",
        "X_train, X_test, y_train, y_test = train_test_split(X, y, test_size=0.2, random_state=42)\n",
        "X_train.shape\n"
      ],
      "metadata": {
        "id": "s9W-7dgDVMYF",
        "outputId": "c6ff6dee-6caa-4bd7-b7aa-11670ebc2b20",
        "colab": {
          "base_uri": "https://localhost:8080/"
        }
      },
      "id": "s9W-7dgDVMYF",
      "execution_count": 24,
      "outputs": [
        {
          "output_type": "execute_result",
          "data": {
            "text/plain": [
              "(525, 6)"
            ]
          },
          "metadata": {},
          "execution_count": 24
        }
      ]
    },
    {
      "cell_type": "markdown",
      "id": "2958d1c2",
      "metadata": {
        "id": "2958d1c2"
      },
      "source": [
        "### Preguntas de Reflexión (Selección de Variables)\n",
        "1. ¿Por qué es importante separar los datos en train y test?\n",
        "2. ¿Qué pasaría si entrenas y evalúas en el **mismo** conjunto de datos?\n",
        "\n",
        "_Responde con tu razonamiento._"
      ]
    },
    {
      "cell_type": "markdown",
      "source": [
        "1. Separar los datos en conjuntos de train y test es importante para evaluar objetivamente el rendimiento de un modelo de aprendizaje automático. El conjunto de entrenamiento se utiliza para ajustar los parámetros del modelo, mientras que el conjunto de prueba proporciona una estimación imparcial de cómo se desempeñará el modelo con datos nuevos e invisibles durante el entrenamiento. Si se evalúa el modelo en los mismos datos en los que se entrenó, se obtendrá una estimación optimista y sesgada del rendimiento, ya que el modelo ya conoce los datos de prueba y podría estar sobreajustado (overfitting).\n",
        "\n",
        "2. Si se entrena y evalúa el modelo en el mismo conjunto de datos, se corre el riesgo de sobreajuste.  El modelo aprenderá los datos de entrenamiento demasiado bien, incluyendo el ruido y las particularidades de estos datos, lo que resultará en un excelente rendimiento en el conjunto de entrenamiento, pero un rendimiento pobre con datos nuevos y reales. Es decir, el modelo memoriza el conjunto de entrenamiento en lugar de aprender los patrones generales subyacentes que le permitan generalizar a nuevos datos.  La evaluación del modelo en el mismo conjunto de datos con el que se entrenó no refleja la capacidad del modelo para generalizar, lo cual es el objetivo principal de cualquier modelo de machine learning.\n"
      ],
      "metadata": {
        "id": "6jUK2Gc0ZjqZ"
      },
      "id": "6jUK2Gc0ZjqZ"
    },
    {
      "cell_type": "markdown",
      "id": "3b685686",
      "metadata": {
        "id": "3b685686"
      },
      "source": [
        "## Paso 5: Entrenar el Modelo de Regresión Lineal\n",
        "Usaremos la clase `LinearRegression` de scikit-learn."
      ]
    },
    {
      "cell_type": "code",
      "source": [
        "model = LinearRegression()\n",
        "model.fit(X_train, y_train)"
      ],
      "metadata": {
        "id": "lxPcIuL2V7-r",
        "outputId": "31c19037-4fb1-41a4-87d3-53d714ba2127",
        "colab": {
          "base_uri": "https://localhost:8080/",
          "height": 80
        }
      },
      "id": "lxPcIuL2V7-r",
      "execution_count": 20,
      "outputs": [
        {
          "output_type": "execute_result",
          "data": {
            "text/plain": [
              "LinearRegression()"
            ],
            "text/html": [
              "<style>#sk-container-id-1 {\n",
              "  /* Definition of color scheme common for light and dark mode */\n",
              "  --sklearn-color-text: #000;\n",
              "  --sklearn-color-text-muted: #666;\n",
              "  --sklearn-color-line: gray;\n",
              "  /* Definition of color scheme for unfitted estimators */\n",
              "  --sklearn-color-unfitted-level-0: #fff5e6;\n",
              "  --sklearn-color-unfitted-level-1: #f6e4d2;\n",
              "  --sklearn-color-unfitted-level-2: #ffe0b3;\n",
              "  --sklearn-color-unfitted-level-3: chocolate;\n",
              "  /* Definition of color scheme for fitted estimators */\n",
              "  --sklearn-color-fitted-level-0: #f0f8ff;\n",
              "  --sklearn-color-fitted-level-1: #d4ebff;\n",
              "  --sklearn-color-fitted-level-2: #b3dbfd;\n",
              "  --sklearn-color-fitted-level-3: cornflowerblue;\n",
              "\n",
              "  /* Specific color for light theme */\n",
              "  --sklearn-color-text-on-default-background: var(--sg-text-color, var(--theme-code-foreground, var(--jp-content-font-color1, black)));\n",
              "  --sklearn-color-background: var(--sg-background-color, var(--theme-background, var(--jp-layout-color0, white)));\n",
              "  --sklearn-color-border-box: var(--sg-text-color, var(--theme-code-foreground, var(--jp-content-font-color1, black)));\n",
              "  --sklearn-color-icon: #696969;\n",
              "\n",
              "  @media (prefers-color-scheme: dark) {\n",
              "    /* Redefinition of color scheme for dark theme */\n",
              "    --sklearn-color-text-on-default-background: var(--sg-text-color, var(--theme-code-foreground, var(--jp-content-font-color1, white)));\n",
              "    --sklearn-color-background: var(--sg-background-color, var(--theme-background, var(--jp-layout-color0, #111)));\n",
              "    --sklearn-color-border-box: var(--sg-text-color, var(--theme-code-foreground, var(--jp-content-font-color1, white)));\n",
              "    --sklearn-color-icon: #878787;\n",
              "  }\n",
              "}\n",
              "\n",
              "#sk-container-id-1 {\n",
              "  color: var(--sklearn-color-text);\n",
              "}\n",
              "\n",
              "#sk-container-id-1 pre {\n",
              "  padding: 0;\n",
              "}\n",
              "\n",
              "#sk-container-id-1 input.sk-hidden--visually {\n",
              "  border: 0;\n",
              "  clip: rect(1px 1px 1px 1px);\n",
              "  clip: rect(1px, 1px, 1px, 1px);\n",
              "  height: 1px;\n",
              "  margin: -1px;\n",
              "  overflow: hidden;\n",
              "  padding: 0;\n",
              "  position: absolute;\n",
              "  width: 1px;\n",
              "}\n",
              "\n",
              "#sk-container-id-1 div.sk-dashed-wrapped {\n",
              "  border: 1px dashed var(--sklearn-color-line);\n",
              "  margin: 0 0.4em 0.5em 0.4em;\n",
              "  box-sizing: border-box;\n",
              "  padding-bottom: 0.4em;\n",
              "  background-color: var(--sklearn-color-background);\n",
              "}\n",
              "\n",
              "#sk-container-id-1 div.sk-container {\n",
              "  /* jupyter's `normalize.less` sets `[hidden] { display: none; }`\n",
              "     but bootstrap.min.css set `[hidden] { display: none !important; }`\n",
              "     so we also need the `!important` here to be able to override the\n",
              "     default hidden behavior on the sphinx rendered scikit-learn.org.\n",
              "     See: https://github.com/scikit-learn/scikit-learn/issues/21755 */\n",
              "  display: inline-block !important;\n",
              "  position: relative;\n",
              "}\n",
              "\n",
              "#sk-container-id-1 div.sk-text-repr-fallback {\n",
              "  display: none;\n",
              "}\n",
              "\n",
              "div.sk-parallel-item,\n",
              "div.sk-serial,\n",
              "div.sk-item {\n",
              "  /* draw centered vertical line to link estimators */\n",
              "  background-image: linear-gradient(var(--sklearn-color-text-on-default-background), var(--sklearn-color-text-on-default-background));\n",
              "  background-size: 2px 100%;\n",
              "  background-repeat: no-repeat;\n",
              "  background-position: center center;\n",
              "}\n",
              "\n",
              "/* Parallel-specific style estimator block */\n",
              "\n",
              "#sk-container-id-1 div.sk-parallel-item::after {\n",
              "  content: \"\";\n",
              "  width: 100%;\n",
              "  border-bottom: 2px solid var(--sklearn-color-text-on-default-background);\n",
              "  flex-grow: 1;\n",
              "}\n",
              "\n",
              "#sk-container-id-1 div.sk-parallel {\n",
              "  display: flex;\n",
              "  align-items: stretch;\n",
              "  justify-content: center;\n",
              "  background-color: var(--sklearn-color-background);\n",
              "  position: relative;\n",
              "}\n",
              "\n",
              "#sk-container-id-1 div.sk-parallel-item {\n",
              "  display: flex;\n",
              "  flex-direction: column;\n",
              "}\n",
              "\n",
              "#sk-container-id-1 div.sk-parallel-item:first-child::after {\n",
              "  align-self: flex-end;\n",
              "  width: 50%;\n",
              "}\n",
              "\n",
              "#sk-container-id-1 div.sk-parallel-item:last-child::after {\n",
              "  align-self: flex-start;\n",
              "  width: 50%;\n",
              "}\n",
              "\n",
              "#sk-container-id-1 div.sk-parallel-item:only-child::after {\n",
              "  width: 0;\n",
              "}\n",
              "\n",
              "/* Serial-specific style estimator block */\n",
              "\n",
              "#sk-container-id-1 div.sk-serial {\n",
              "  display: flex;\n",
              "  flex-direction: column;\n",
              "  align-items: center;\n",
              "  background-color: var(--sklearn-color-background);\n",
              "  padding-right: 1em;\n",
              "  padding-left: 1em;\n",
              "}\n",
              "\n",
              "\n",
              "/* Toggleable style: style used for estimator/Pipeline/ColumnTransformer box that is\n",
              "clickable and can be expanded/collapsed.\n",
              "- Pipeline and ColumnTransformer use this feature and define the default style\n",
              "- Estimators will overwrite some part of the style using the `sk-estimator` class\n",
              "*/\n",
              "\n",
              "/* Pipeline and ColumnTransformer style (default) */\n",
              "\n",
              "#sk-container-id-1 div.sk-toggleable {\n",
              "  /* Default theme specific background. It is overwritten whether we have a\n",
              "  specific estimator or a Pipeline/ColumnTransformer */\n",
              "  background-color: var(--sklearn-color-background);\n",
              "}\n",
              "\n",
              "/* Toggleable label */\n",
              "#sk-container-id-1 label.sk-toggleable__label {\n",
              "  cursor: pointer;\n",
              "  display: flex;\n",
              "  width: 100%;\n",
              "  margin-bottom: 0;\n",
              "  padding: 0.5em;\n",
              "  box-sizing: border-box;\n",
              "  text-align: center;\n",
              "  align-items: start;\n",
              "  justify-content: space-between;\n",
              "  gap: 0.5em;\n",
              "}\n",
              "\n",
              "#sk-container-id-1 label.sk-toggleable__label .caption {\n",
              "  font-size: 0.6rem;\n",
              "  font-weight: lighter;\n",
              "  color: var(--sklearn-color-text-muted);\n",
              "}\n",
              "\n",
              "#sk-container-id-1 label.sk-toggleable__label-arrow:before {\n",
              "  /* Arrow on the left of the label */\n",
              "  content: \"▸\";\n",
              "  float: left;\n",
              "  margin-right: 0.25em;\n",
              "  color: var(--sklearn-color-icon);\n",
              "}\n",
              "\n",
              "#sk-container-id-1 label.sk-toggleable__label-arrow:hover:before {\n",
              "  color: var(--sklearn-color-text);\n",
              "}\n",
              "\n",
              "/* Toggleable content - dropdown */\n",
              "\n",
              "#sk-container-id-1 div.sk-toggleable__content {\n",
              "  max-height: 0;\n",
              "  max-width: 0;\n",
              "  overflow: hidden;\n",
              "  text-align: left;\n",
              "  /* unfitted */\n",
              "  background-color: var(--sklearn-color-unfitted-level-0);\n",
              "}\n",
              "\n",
              "#sk-container-id-1 div.sk-toggleable__content.fitted {\n",
              "  /* fitted */\n",
              "  background-color: var(--sklearn-color-fitted-level-0);\n",
              "}\n",
              "\n",
              "#sk-container-id-1 div.sk-toggleable__content pre {\n",
              "  margin: 0.2em;\n",
              "  border-radius: 0.25em;\n",
              "  color: var(--sklearn-color-text);\n",
              "  /* unfitted */\n",
              "  background-color: var(--sklearn-color-unfitted-level-0);\n",
              "}\n",
              "\n",
              "#sk-container-id-1 div.sk-toggleable__content.fitted pre {\n",
              "  /* unfitted */\n",
              "  background-color: var(--sklearn-color-fitted-level-0);\n",
              "}\n",
              "\n",
              "#sk-container-id-1 input.sk-toggleable__control:checked~div.sk-toggleable__content {\n",
              "  /* Expand drop-down */\n",
              "  max-height: 200px;\n",
              "  max-width: 100%;\n",
              "  overflow: auto;\n",
              "}\n",
              "\n",
              "#sk-container-id-1 input.sk-toggleable__control:checked~label.sk-toggleable__label-arrow:before {\n",
              "  content: \"▾\";\n",
              "}\n",
              "\n",
              "/* Pipeline/ColumnTransformer-specific style */\n",
              "\n",
              "#sk-container-id-1 div.sk-label input.sk-toggleable__control:checked~label.sk-toggleable__label {\n",
              "  color: var(--sklearn-color-text);\n",
              "  background-color: var(--sklearn-color-unfitted-level-2);\n",
              "}\n",
              "\n",
              "#sk-container-id-1 div.sk-label.fitted input.sk-toggleable__control:checked~label.sk-toggleable__label {\n",
              "  background-color: var(--sklearn-color-fitted-level-2);\n",
              "}\n",
              "\n",
              "/* Estimator-specific style */\n",
              "\n",
              "/* Colorize estimator box */\n",
              "#sk-container-id-1 div.sk-estimator input.sk-toggleable__control:checked~label.sk-toggleable__label {\n",
              "  /* unfitted */\n",
              "  background-color: var(--sklearn-color-unfitted-level-2);\n",
              "}\n",
              "\n",
              "#sk-container-id-1 div.sk-estimator.fitted input.sk-toggleable__control:checked~label.sk-toggleable__label {\n",
              "  /* fitted */\n",
              "  background-color: var(--sklearn-color-fitted-level-2);\n",
              "}\n",
              "\n",
              "#sk-container-id-1 div.sk-label label.sk-toggleable__label,\n",
              "#sk-container-id-1 div.sk-label label {\n",
              "  /* The background is the default theme color */\n",
              "  color: var(--sklearn-color-text-on-default-background);\n",
              "}\n",
              "\n",
              "/* On hover, darken the color of the background */\n",
              "#sk-container-id-1 div.sk-label:hover label.sk-toggleable__label {\n",
              "  color: var(--sklearn-color-text);\n",
              "  background-color: var(--sklearn-color-unfitted-level-2);\n",
              "}\n",
              "\n",
              "/* Label box, darken color on hover, fitted */\n",
              "#sk-container-id-1 div.sk-label.fitted:hover label.sk-toggleable__label.fitted {\n",
              "  color: var(--sklearn-color-text);\n",
              "  background-color: var(--sklearn-color-fitted-level-2);\n",
              "}\n",
              "\n",
              "/* Estimator label */\n",
              "\n",
              "#sk-container-id-1 div.sk-label label {\n",
              "  font-family: monospace;\n",
              "  font-weight: bold;\n",
              "  display: inline-block;\n",
              "  line-height: 1.2em;\n",
              "}\n",
              "\n",
              "#sk-container-id-1 div.sk-label-container {\n",
              "  text-align: center;\n",
              "}\n",
              "\n",
              "/* Estimator-specific */\n",
              "#sk-container-id-1 div.sk-estimator {\n",
              "  font-family: monospace;\n",
              "  border: 1px dotted var(--sklearn-color-border-box);\n",
              "  border-radius: 0.25em;\n",
              "  box-sizing: border-box;\n",
              "  margin-bottom: 0.5em;\n",
              "  /* unfitted */\n",
              "  background-color: var(--sklearn-color-unfitted-level-0);\n",
              "}\n",
              "\n",
              "#sk-container-id-1 div.sk-estimator.fitted {\n",
              "  /* fitted */\n",
              "  background-color: var(--sklearn-color-fitted-level-0);\n",
              "}\n",
              "\n",
              "/* on hover */\n",
              "#sk-container-id-1 div.sk-estimator:hover {\n",
              "  /* unfitted */\n",
              "  background-color: var(--sklearn-color-unfitted-level-2);\n",
              "}\n",
              "\n",
              "#sk-container-id-1 div.sk-estimator.fitted:hover {\n",
              "  /* fitted */\n",
              "  background-color: var(--sklearn-color-fitted-level-2);\n",
              "}\n",
              "\n",
              "/* Specification for estimator info (e.g. \"i\" and \"?\") */\n",
              "\n",
              "/* Common style for \"i\" and \"?\" */\n",
              "\n",
              ".sk-estimator-doc-link,\n",
              "a:link.sk-estimator-doc-link,\n",
              "a:visited.sk-estimator-doc-link {\n",
              "  float: right;\n",
              "  font-size: smaller;\n",
              "  line-height: 1em;\n",
              "  font-family: monospace;\n",
              "  background-color: var(--sklearn-color-background);\n",
              "  border-radius: 1em;\n",
              "  height: 1em;\n",
              "  width: 1em;\n",
              "  text-decoration: none !important;\n",
              "  margin-left: 0.5em;\n",
              "  text-align: center;\n",
              "  /* unfitted */\n",
              "  border: var(--sklearn-color-unfitted-level-1) 1pt solid;\n",
              "  color: var(--sklearn-color-unfitted-level-1);\n",
              "}\n",
              "\n",
              ".sk-estimator-doc-link.fitted,\n",
              "a:link.sk-estimator-doc-link.fitted,\n",
              "a:visited.sk-estimator-doc-link.fitted {\n",
              "  /* fitted */\n",
              "  border: var(--sklearn-color-fitted-level-1) 1pt solid;\n",
              "  color: var(--sklearn-color-fitted-level-1);\n",
              "}\n",
              "\n",
              "/* On hover */\n",
              "div.sk-estimator:hover .sk-estimator-doc-link:hover,\n",
              ".sk-estimator-doc-link:hover,\n",
              "div.sk-label-container:hover .sk-estimator-doc-link:hover,\n",
              ".sk-estimator-doc-link:hover {\n",
              "  /* unfitted */\n",
              "  background-color: var(--sklearn-color-unfitted-level-3);\n",
              "  color: var(--sklearn-color-background);\n",
              "  text-decoration: none;\n",
              "}\n",
              "\n",
              "div.sk-estimator.fitted:hover .sk-estimator-doc-link.fitted:hover,\n",
              ".sk-estimator-doc-link.fitted:hover,\n",
              "div.sk-label-container:hover .sk-estimator-doc-link.fitted:hover,\n",
              ".sk-estimator-doc-link.fitted:hover {\n",
              "  /* fitted */\n",
              "  background-color: var(--sklearn-color-fitted-level-3);\n",
              "  color: var(--sklearn-color-background);\n",
              "  text-decoration: none;\n",
              "}\n",
              "\n",
              "/* Span, style for the box shown on hovering the info icon */\n",
              ".sk-estimator-doc-link span {\n",
              "  display: none;\n",
              "  z-index: 9999;\n",
              "  position: relative;\n",
              "  font-weight: normal;\n",
              "  right: .2ex;\n",
              "  padding: .5ex;\n",
              "  margin: .5ex;\n",
              "  width: min-content;\n",
              "  min-width: 20ex;\n",
              "  max-width: 50ex;\n",
              "  color: var(--sklearn-color-text);\n",
              "  box-shadow: 2pt 2pt 4pt #999;\n",
              "  /* unfitted */\n",
              "  background: var(--sklearn-color-unfitted-level-0);\n",
              "  border: .5pt solid var(--sklearn-color-unfitted-level-3);\n",
              "}\n",
              "\n",
              ".sk-estimator-doc-link.fitted span {\n",
              "  /* fitted */\n",
              "  background: var(--sklearn-color-fitted-level-0);\n",
              "  border: var(--sklearn-color-fitted-level-3);\n",
              "}\n",
              "\n",
              ".sk-estimator-doc-link:hover span {\n",
              "  display: block;\n",
              "}\n",
              "\n",
              "/* \"?\"-specific style due to the `<a>` HTML tag */\n",
              "\n",
              "#sk-container-id-1 a.estimator_doc_link {\n",
              "  float: right;\n",
              "  font-size: 1rem;\n",
              "  line-height: 1em;\n",
              "  font-family: monospace;\n",
              "  background-color: var(--sklearn-color-background);\n",
              "  border-radius: 1rem;\n",
              "  height: 1rem;\n",
              "  width: 1rem;\n",
              "  text-decoration: none;\n",
              "  /* unfitted */\n",
              "  color: var(--sklearn-color-unfitted-level-1);\n",
              "  border: var(--sklearn-color-unfitted-level-1) 1pt solid;\n",
              "}\n",
              "\n",
              "#sk-container-id-1 a.estimator_doc_link.fitted {\n",
              "  /* fitted */\n",
              "  border: var(--sklearn-color-fitted-level-1) 1pt solid;\n",
              "  color: var(--sklearn-color-fitted-level-1);\n",
              "}\n",
              "\n",
              "/* On hover */\n",
              "#sk-container-id-1 a.estimator_doc_link:hover {\n",
              "  /* unfitted */\n",
              "  background-color: var(--sklearn-color-unfitted-level-3);\n",
              "  color: var(--sklearn-color-background);\n",
              "  text-decoration: none;\n",
              "}\n",
              "\n",
              "#sk-container-id-1 a.estimator_doc_link.fitted:hover {\n",
              "  /* fitted */\n",
              "  background-color: var(--sklearn-color-fitted-level-3);\n",
              "}\n",
              "</style><div id=\"sk-container-id-1\" class=\"sk-top-container\"><div class=\"sk-text-repr-fallback\"><pre>LinearRegression()</pre><b>In a Jupyter environment, please rerun this cell to show the HTML representation or trust the notebook. <br />On GitHub, the HTML representation is unable to render, please try loading this page with nbviewer.org.</b></div><div class=\"sk-container\" hidden><div class=\"sk-item\"><div class=\"sk-estimator fitted sk-toggleable\"><input class=\"sk-toggleable__control sk-hidden--visually\" id=\"sk-estimator-id-1\" type=\"checkbox\" checked><label for=\"sk-estimator-id-1\" class=\"sk-toggleable__label fitted sk-toggleable__label-arrow\"><div><div>LinearRegression</div></div><div><a class=\"sk-estimator-doc-link fitted\" rel=\"noreferrer\" target=\"_blank\" href=\"https://scikit-learn.org/1.6/modules/generated/sklearn.linear_model.LinearRegression.html\">?<span>Documentation for LinearRegression</span></a><span class=\"sk-estimator-doc-link fitted\">i<span>Fitted</span></span></div></label><div class=\"sk-toggleable__content fitted\"><pre>LinearRegression()</pre></div> </div></div></div></div>"
            ]
          },
          "metadata": {},
          "execution_count": 20
        }
      ]
    },
    {
      "cell_type": "markdown",
      "id": "994fd089",
      "metadata": {
        "id": "994fd089"
      },
      "source": [
        "### Interpretación de Coeficientes\n",
        "Si la lista de features es `[\"revenues\", \"ebit\", \"depreciation\", \"capex\", \"ncwc\", \"bv\"]` y tu `model.coef_` es algo como `[a, b, c, d, e, f]`, entonces:\n",
        "\n",
        "\\[ y \\approx \\beta_0 + a\\cdot revenues + b\\cdot ebit + c\\cdot depreciation + d\\cdot capex + e\\cdot ncwc + f\\cdot bv \\]\n",
        "\n",
        "Cada coeficiente indica cómo cambia `y` en promedio **por cada unidad** que se incrementa la variable (manteniendo las demás constantes)."
      ]
    },
    {
      "cell_type": "code",
      "source": [
        "intercept = model.intercept_\n",
        "coef = model.coef_[0]\n",
        "print(f\"Intercept (beta_0): {intercept:.2f}\")\n",
        "print(f\"Coeficiente (beta_1): {coef:.2f}\")"
      ],
      "metadata": {
        "id": "SK0pMilkWBgb",
        "outputId": "369f1bf0-450c-4f3d-b5b6-b0c31c26fedb",
        "colab": {
          "base_uri": "https://localhost:8080/"
        }
      },
      "id": "SK0pMilkWBgb",
      "execution_count": 22,
      "outputs": [
        {
          "output_type": "stream",
          "name": "stdout",
          "text": [
            "Intercept (beta_0): 9899.01\n",
            "Coeficiente (beta_1): 0.01\n"
          ]
        }
      ]
    },
    {
      "cell_type": "markdown",
      "id": "000bc2f3",
      "metadata": {
        "id": "000bc2f3"
      },
      "source": [
        "## Paso 6: Evaluación y Validación del Modelo\n",
        "Usaremos las siguientes métricas:\n",
        "- **MSE (Mean Squared Error)**\n",
        "- **MAE (Mean Absolute Error)**\n",
        "- **R² (Coeficiente de Determinación)**"
      ]
    },
    {
      "cell_type": "code",
      "execution_count": 23,
      "id": "2b1687ca",
      "metadata": {
        "id": "2b1687ca",
        "outputId": "9f776465-5fe0-40e9-df3f-9bf4ff32be12",
        "colab": {
          "base_uri": "https://localhost:8080/"
        }
      },
      "outputs": [
        {
          "output_type": "stream",
          "name": "stdout",
          "text": [
            "Conjunto de Entrenamiento:\n",
            "MSE: 2242515099.11\n",
            "R^2: 0.79\n",
            "\n",
            "Conjunto de Prueba:\n",
            "MSE: 2451454626.47\n",
            "R^2: 0.75\n"
          ]
        }
      ],
      "source": [
        "\n",
        "y_pred_train = model.predict(X_train)\n",
        "y_pred_test = model.predict(X_test)\n",
        "\n",
        "\n",
        "mse_train = mean_squared_error(y_train, y_pred_train)\n",
        "r2_train = r2_score(y_train, y_pred_train)\n",
        "\n",
        "\n",
        "mse_test = mean_squared_error(y_test, y_pred_test)\n",
        "r2_test = r2_score(y_test, y_pred_test)\n",
        "\n",
        "print(\"Conjunto de Entrenamiento:\")\n",
        "print(f\"MSE: {mse_train:.2f}\")\n",
        "print(f\"R^2: {r2_train:.2f}\")\n",
        "print(\"\\nConjunto de Prueba:\")\n",
        "print(f\"MSE: {mse_test:.2f}\")\n",
        "print(f\"R^2: {r2_test:.2f}\")"
      ]
    },
    {
      "cell_type": "markdown",
      "id": "229849b2",
      "metadata": {
        "id": "229849b2"
      },
      "source": [
        "### Preguntas de Reflexión (Evaluación)\n",
        "1. ¿Por qué comparamos las métricas en **Entrenamiento** vs **Prueba**?\n",
        "2. ¿Qué significa si el error en entrenamiento es **muy** distinto (mucho menor o mucho mayor) que en prueba?\n",
        "3. ¿Cómo interpretar un **R²** cercano a 1, cercano a 0 o incluso negativo?\n",
        "\n",
        "_Responde con tu razonamiento._"
      ]
    },
    {
      "cell_type": "code",
      "source": [],
      "metadata": {
        "id": "MH2sAB2RZ3gp"
      },
      "id": "MH2sAB2RZ3gp",
      "execution_count": null,
      "outputs": []
    },
    {
      "cell_type": "markdown",
      "source": [
        "1. Comparamos las métricas de entrenamiento y prueba para evaluar cómo generaliza el modelo. El rendimiento en entrenamiento muestra cómo se ajusta a los datos con los que se entrenó, pero lo importante es ver cómo se comporta con datos nuevos, representados por el conjunto de prueba. Una gran diferencia entre ambas métricas puede indicar sobreajuste o subajuste.\n",
        "\n",
        "2. Si el error en entrenamiento es mucho menor que en prueba, hay sobreajuste: el modelo ha aprendido demasiado de los detalles del entrenamiento y no generaliza bien. Si el error en entrenamiento es mucho mayor que en prueba, puede haber subajuste: el modelo es demasiado simple y no se ajusta bien ni a los datos de entrenamiento ni a los de prueba.\n",
        "\n",
        "3. El coeficiente de determinación (R²) mide qué tan bien el modelo explica la variabilidad de los datos. Un R² cercano a 1 indica buen ajuste, mientras que un R² cercano a 0 muestra que el modelo no es útil. Un R² negativo sugiere que el modelo es peor que usar solo la media de los datos.\n"
      ],
      "metadata": {
        "id": "c2s2OwNHaLRx"
      },
      "id": "c2s2OwNHaLRx"
    },
    {
      "cell_type": "markdown",
      "id": "f357cf0e",
      "metadata": {
        "id": "f357cf0e"
      },
      "source": [
        "## Paso 8: Interpretación y Conclusiones\n",
        "\n",
        "1. **Revisa** los coeficientes: ¿son consistentes con la lógica de negocio? (p.ej., si `ebit` aumenta, esperas que `y` aumente o disminuya?).\n",
        "2. **Observa** el nivel de error y R²: ¿el modelo es suficientemente bueno para su uso práctico?\n",
        "3. **Considera** la posibilidad de:\n",
        "   - Añadir más variables.\n",
        "   - Aplicar **regresiones polinómicas** (X², X³) si sospechas no linealidad.\n",
        "   - Usar **regularización** (Ridge, Lasso) si hay multicolinealidad o se requieren coeficientes más estables."
      ]
    },
    {
      "cell_type": "markdown",
      "id": "48d0593a",
      "metadata": {
        "id": "48d0593a"
      },
      "source": [
        "### Preguntas de Reflexión Final\n",
        "1. ¿Crees que la Regresión Lineal Simple/Múltiple **captura adecuadamente** las relaciones en tus datos?\n",
        "2. ¿Qué otras técnicas (ej. árboles de decisión, bosques aleatorios, etc.) considerarías para comparar resultados?\n",
        "3. ¿El dataset es suficientemente grande y variado para hacer conclusiones robustas?\n",
        "\n",
        "_Responde con tu razonamiento._"
      ]
    },
    {
      "cell_type": "markdown",
      "source": [
        "1. Es difícil saberlo sin una exploración más profunda de los datos y un análisis detallado del modelo. La regresión lineal asume relaciones lineales entre las variables predictoras y la variable objetivo. Si estas relaciones son no lineales, la regresión lineal puede no ser adecuada. Es importante analizar los residuales para verificar los supuestos de linealidad, homocedasticidad y normalidad.\n",
        "2. Para comparar y explorar relaciones no lineales, consideraría estas técnicas:\n",
        "Árboles de decisión: Son útiles para capturar relaciones no lineales y fáciles de interpretar.\n",
        "Bosques aleatorios: Mejoran el rendimiento de los árboles de decisión, reduciendo el sobreajuste y mejorando la precisión.\n",
        "Máquinas de vectores de soporte (SVM): Son efectivas para manejar relaciones no lineales mediante funciones kernel.\n",
        "Redes neuronales: Son flexibles y pueden modelar funciones complejas, pero requieren más datos y son más difíciles de interpretar.\n",
        "3. El tamaño y la variabilidad del dataset son claves. Sin saber cuántas observaciones tiene y cómo están distribuidas las variables, es difícil hacer una evaluación. Un dataset pequeño puede causar sobreajuste, mientras que uno con poca variabilidad puede afectar la generalización. Un análisis de la distribución de las características y la variable objetivo, así como una revisión de los valores faltantes, puede indicar si el dataset es representativo. Idealmente, la validación cruzada (cross-validation) con diferentes particiones de los datos puede ayudar a asegurar que los resultados no dependan de una única división entre entrenamiento y prueba."
      ],
      "metadata": {
        "id": "9WcjR4Irar-J"
      },
      "id": "9WcjR4Irar-J"
    },
    {
      "cell_type": "markdown",
      "id": "2d97d703",
      "metadata": {
        "id": "2d97d703"
      },
      "source": [
        "## Resumen\n",
        "En este Notebook hemos:\n",
        "1. **Explorado** los datos (EDA) y detectado posibles outliers.\n",
        "2. **Limpieza** de datos y transformaciones opcionales.\n",
        "3. **Seleccionado** variables y dividido en train/test.\n",
        "4. **Entrenado** un modelo de Regresión Lineal.\n",
        "5. **Evaluado** con MSE, MAE, R² y analizado residuos.\n",
        "6. **Reflexionado** sobre los coeficientes y conclusiones.\n",
        "\n",
        "¡Has completado un **análisis de regresión lineal** de forma integral! Para afianzar, puedes:\n",
        "- Ajustar parámetros (aunque la regresión lineal simple en sklearn no tiene muchos).\n",
        "- Comparar con otros modelos.\n",
        "- Realizar validación cruzada en lugar de una simple división train/test.\n",
        "\n",
        "¡Éxitos en tu proyecto de análisis!"
      ]
    }
  ],
  "metadata": {
    "kernelspec": {
      "display_name": "Python 3",
      "language": "python",
      "name": "python3"
    },
    "language_info": {
      "name": "python",
      "version": "3.9"
    },
    "colab": {
      "provenance": [],
      "include_colab_link": true
    }
  },
  "nbformat": 4,
  "nbformat_minor": 5
}